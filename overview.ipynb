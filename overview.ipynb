{
 "cells": [
  {
   "cell_type": "markdown",
   "metadata": {},
   "source": [
    "<table><tr>\n",
    "    <td> \n",
    "        <a href = \"https://www.rivacon.com/\" target = \"_self\"> \n",
    "          <img src = \"images/rivacon_logo.png\" alt = \"RIVACON\" border = \"0\" style=\"width:150px;height=auto\" /> \n",
    "      </a> \n",
    "    </td>\n",
    "    <td> \n",
    "        <a href = \"https://www.frontmark.de/\" target = \"_self\"> \n",
    "          <img src = \"images/frontmark_logo.png\" alt = \"frontmark\" border = \"0\" style=\"width:155px;height=auto\" /> \n",
    "      </a>\n",
    "    </td>\n",
    "</tr></table>"
   ]
  },
  {
   "cell_type": "markdown",
   "metadata": {},
   "source": [
    "# Introduction\n",
    "\n",
    "This repository contains several Machine Learning in Finance use cases. It is still work in progress and more notebooks will be added. \n",
    "\n",
    "Have fun exploring the current use cases!\n",
    "\n",
    "# Data Visualisation with ML\n",
    "\n",
    "## Volatility Surface Visualisation\n",
    "\n",
    "The idea of [this notebook](vol_surface_visualisation/Volatilities_MDS.ipynb) is to visualize distances and the development of volatility surfaces. For this purpose the Multi Dimensional Scaling (MDS) algorithm is used.\n",
    "\n",
    "# Scoring\n",
    "\n",
    "## Peer Group Scoring using Siamese networks\n",
    "\n",
    "[This notebook](peer_scoring_siamese/siamese.ipynb) illustrates the application of Siamese networks to construct a peer group scoring used to create peer groups for structured products. \n",
    "\n",
    "# Valuation\n",
    "\n",
    "## Black-Scholes Valuation Using Neural Networks\n",
    "Speeding up computation for costly valuation methods is of interest in many risk valuation tasks such as computing Var/C-VaR or XVA adjustments. One such approach is to train Neural Networks to approximate the pricing function. Here, although the training of the network may be quite costly, it can efficiently be evaluated within risk applications. \n",
    "An illustrative example where beginners may learn how to setup a neural network with tensorflow, evaluate results, setting different learning rate schedules and computing greeks with AAD for the simple case of using an ANN to approximate the Black Scholes call price formula (probably the most computationaly efficient model but chosen for the ease of presentation) can be found [here](nn_approximation_bs/nn_approximation_bs.ipynb).\n",
    "\n",
    "# Deep Hedging\n",
    "\n",
    "## Black-Scholes Call with Bid-Ask Spreads\n",
    "[Here](deep_hedging/deep_hedging.ipynb) we show how to implement a neural network to compute strategies for hedging a call option (in a model free sense) on underlyings that are traded with bid-ask spreads."
   ]
  }
 ],
 "metadata": {
  "hide_input": false,
  "kernelspec": {
   "display_name": "Python 3",
   "language": "python",
   "name": "python3"
  },
  "language_info": {
   "codemirror_mode": {
    "name": "ipython",
    "version": 3
   },
   "file_extension": ".py",
   "mimetype": "text/x-python",
   "name": "python",
   "nbconvert_exporter": "python",
   "pygments_lexer": "ipython3",
   "version": "3.8.5"
  },
  "toc": {
   "base_numbering": 1,
   "nav_menu": {
    "height": "136px",
    "width": "252px"
   },
   "number_sections": true,
   "sideBar": true,
   "skip_h1_title": false,
   "title_cell": "Table of Contents",
   "title_sidebar": "Contents",
   "toc_cell": false,
   "toc_position": {},
   "toc_section_display": "block",
   "toc_window_display": true
  },
  "varInspector": {
   "cols": {
    "lenName": 16,
    "lenType": 16,
    "lenVar": 40
   },
   "kernels_config": {
    "python": {
     "delete_cmd_postfix": "",
     "delete_cmd_prefix": "del ",
     "library": "var_list.py",
     "varRefreshCmd": "print(var_dic_list())"
    },
    "r": {
     "delete_cmd_postfix": ") ",
     "delete_cmd_prefix": "rm(",
     "library": "var_list.r",
     "varRefreshCmd": "cat(var_dic_list()) "
    }
   },
   "types_to_exclude": [
    "module",
    "function",
    "builtin_function_or_method",
    "instance",
    "_Feature"
   ],
   "window_display": false
  }
 },
 "nbformat": 4,
 "nbformat_minor": 2
}
