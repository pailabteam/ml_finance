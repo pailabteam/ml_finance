{
 "cells": [
  {
   "cell_type": "markdown",
   "metadata": {},
   "source": [
    "# Deep Hedging\n",
    "\n",
    "You will see in this notebook"
   ]
  },
  {
   "cell_type": "code",
   "execution_count": 111,
   "metadata": {},
   "outputs": [],
   "source": [
    "import os\n",
    "import scipy as sp\n",
    "import numpy as np\n",
    "import datetime as dt\n",
    "import matplotlib.pyplot as plt\n",
    "import tensorflow as tf\n",
    "\n",
    "tf.keras.backend.set_floatx('float64')\n",
    "\n",
    "%matplotlib inline"
   ]
  },
  {
   "cell_type": "markdown",
   "metadata": {},
   "source": [
    "# Problem formulation and Input Data"
   ]
  },
  {
   "cell_type": "markdown",
   "metadata": {},
   "source": [
    "We investigate the problem of hedging a Call where the underlying can only be traded with a relative bid-ask spread, i.e. if you by the underlying you have to pay\n",
    "$$S_{bid}=s\\dot S_{mid}$$ and if you sell "
   ]
  },
  {
   "cell_type": "code",
   "execution_count": 2,
   "metadata": {
    "code_folding": [
     0,
     24
    ]
   },
   "outputs": [],
   "source": [
    "def compute_data(ttm, n_timesteps, n_samples, final_payoff, vol, spot=100.0, ba_spread = 0.0001):\n",
    "    spot_bid = np.empty((n_samples, n_timesteps,))\n",
    "    spot_ask = np.empty((n_samples, n_timesteps,))\n",
    "    payoff = np.zeros((n_samples,n_timesteps,))\n",
    "    timegrid = np.linspace(0.0, ttm, n_timesteps)\n",
    "    call_ttm = np.empty((n_samples, n_timesteps,))\n",
    "    simulated_spot = np.full((n_samples,), spot)\n",
    "    spot_bid[:,0] = simulated_spot*(1.0-ba_spread*0.5)\n",
    "    spot_ask[:,0] = simulated_spot*(1.0+ba_spread*0.5)\n",
    "    \n",
    "    for i in range(n_samples):\n",
    "        call_ttm[i,:] = ttm-timegrid\n",
    "    \n",
    "    vol_2 = vol**2\n",
    "    for i in range(1,timegrid.shape[0]):\n",
    "        dt = timegrid[i]-timegrid[i-1]\n",
    "        rand = np.random.standard_normal((n_samples,))\n",
    "        simulated_spot = simulated_spot * np.exp((- 0.5 * vol_2) * dt +\n",
    "                                         vol * np.sqrt(dt) * rand)\n",
    "        spot_bid[:,i] = simulated_spot*(1.0-ba_spread*0.5)\n",
    "        spot_ask[:,i] = simulated_spot*(1.0+ba_spread*0.5)\n",
    "    payoff[:,-1] = final_payoff(simulated_spot)\n",
    "    return np.atleast_3d(spot_bid), np.atleast_3d(spot_ask), np.atleast_3d(call_ttm), np.atleast_3d(payoff)\n",
    "\n",
    "def call_payoff(strike):\n",
    "    def c(x):\n",
    "        return np.maximum(x-strike, 0.0)\n",
    "    return c\n",
    "\n",
    "strike = 100.0\n",
    "spot_bid, spot_ask, call_ttm, payoff = compute_data(1.0, n_timesteps=120, n_samples=20000, \n",
    "                                                    final_payoff=call_payoff(strike=strike), vol=0.2)\n",
    "\n",
    "#selection = spot_bid[:,-1,0]>110.0\n",
    "#spot_bid = spot_bid[selection]\n",
    "#spot_ask = spot_ask[selection]\n",
    "#call_ttm = call_ttm[selection]\n",
    "#payoff = payoff[selection]\n",
    "f_hedge=np.concatenate([spot_bid/strike, call_ttm], axis=2)"
   ]
  },
  {
   "cell_type": "markdown",
   "metadata": {},
   "source": [
    "# Creating the network"
   ]
  },
  {
   "cell_type": "code",
   "execution_count": 25,
   "metadata": {
    "code_folding": []
   },
   "outputs": [],
   "source": [
    "class Hedger_DO:\n",
    "    \n",
    "    @staticmethod\n",
    "    def get_hedgemodel(m):\n",
    "        return m.get_layer('time_distributed').layer\n",
    "        \n",
    "    \n",
    "    @staticmethod\n",
    "    def create_hedge_model(n_features,layers=[{'units':10, 'activation':'tanh'}, {'units':5, 'activation':'tanh'}, {'units':1, 'activation':'linear'}]):\n",
    "        hedge_input_feat = tf.keras.layers.Input(shape=(n_features), ragged=False, name='hedge_input')\n",
    "        previous = tf.keras.layers.Dense(name='hedge_model_0', **layers[0])(hedge_input_feat)\n",
    "        for k in range(1, len(layers)):\n",
    "            if k < len(layers)-1:\n",
    "                name = 'hedge_model_'+str(k)\n",
    "            else:\n",
    "                name = 'hedge_qty'\n",
    "            previous = tf.keras.layers.Dense(name = name, **layers[k])(previous)\n",
    "        return tf.keras.models.Model(name = 'hedge_model', inputs=hedge_input_feat, \n",
    "                              outputs=previous)\n",
    "        return previous\n",
    "        \n",
    "    @staticmethod\n",
    "    def create_model(n_times, n_features,\n",
    "                     layers=[{'units':10, 'activation':'tanh'}, {'units':5, 'activation':'tanh'}, {'units':1, 'activation':'linear'}]):\n",
    "        # create hedge model\n",
    "        #\n",
    "        hedge_input_feat = tf.keras.layers.Input(shape=(n_times-1, n_features), ragged=False, name='hedge_input')\n",
    "        if False:\n",
    "            previous = tf.keras.layers.TimeDistributed(tf.keras.layers.Dense(name='hedge_model_0', **layers[0]), name='time_distributed/hedge_model_0')(hedge_input_feat)\n",
    "            for k in range(1, len(layers)):\n",
    "                if k < len(layers)-1:\n",
    "                    name = 'hedge_model_'+str(k)\n",
    "                else:\n",
    "                    name = 'hedge_qty'\n",
    "                previous = tf.keras.layers.TimeDistributed(tf.keras.layers.Dense(name = name, **layers[k]), name='time_distributed/'+name)(previous)\n",
    "\n",
    "            cf_input_hedge_qty = previous\n",
    "        else:\n",
    "            hedge_model = Hedger_DO.create_hedge_model(n_features, layers)\n",
    "            cf_input_hedge_qty = tf.keras.layers.TimeDistributed(hedge_model)(hedge_input_feat)\n",
    "            \n",
    "        # In our example, the loss function in the training will be applied the PnL of the hedging strategy on each path.\n",
    "        # The PnL computation is done in the following lines.\n",
    "        #\n",
    "        cf_input_spot_bid = tf.keras.Input(shape=(n_times,1) ,name='CF_input_spot_bid')\n",
    "        cf_input_spot_ask = tf.keras.Input(shape=(n_times,1) ,name='CF_input_spot_ask')\n",
    "        \n",
    "        cf_input_inst_payoff = tf.keras.Input(shape=(n_times,1) ,name='CF_input_call_payoff')\n",
    "        cf_input_df = tf.keras.Input(shape=(n_times,1) ,name='CF_input_df')\n",
    "\n",
    "        # hedge cashflows from trades\n",
    "        cf_dqty_inner = tf.keras.layers.Lambda(lambda x: x[:,1:] - x[:,:-1])(cf_input_hedge_qty)\n",
    "        cf_dqty0 = tf.keras.layers.Lambda(lambda x: tf.keras.backend.reshape(x[:,0,:], shape=(-1,1,1)))(cf_input_hedge_qty)\n",
    "        cf_dqtyT = tf.keras.layers.Lambda(lambda x: tf.keras.backend.reshape(-x[:,-1,:], shape=(-1,1,1)))(cf_input_hedge_qty)\n",
    "        cf_dqty = tf.keras.layers.Concatenate(axis=1)([cf_dqty0, cf_dqty_inner, cf_dqtyT])\n",
    "\n",
    "        cf_dqty_pos = tf.keras.layers.Lambda(lambda x: tf.keras.backend.minimum(-1.0*x, 0.0))(cf_dqty)\n",
    "        cf_dqty_neg = tf.keras.layers.Lambda(lambda x: tf.keras.backend.maximum(-1.0*x, 0.0))(cf_dqty)\n",
    "\n",
    "        cf_hedge_cashflow_buy = tf.keras.layers.Multiply()([cf_dqty_pos, cf_input_spot_ask])\n",
    "        cf_hedge_cashflow_sell = tf.keras.layers.Multiply()([cf_dqty_neg, cf_input_spot_bid])\n",
    "        cf_hedge_cashflow = tf.keras.layers.Add(name='CF_hedge_cashflow_trades')([cf_hedge_cashflow_buy, cf_hedge_cashflow_sell])\n",
    "\n",
    "        # all cashflows collected\n",
    "        cf_cashflow = tf.keras.layers.Add(name='CF_cashflow_total')([cf_input_inst_payoff, cf_hedge_cashflow])\n",
    "        # discounted cashflow defines the loss\n",
    "        cf_loss_timestep = tf.keras.layers.Multiply(name='CF_cashflows_discounted')([cf_input_df, cf_cashflow])\n",
    "        # aggregate loss output (over time steps)\n",
    "        cf_loss_value = tf.keras.layers.Lambda(lambda x: tf.keras.backend.sum(x, axis=1, keepdims=True), name='loss')(cf_loss_timestep)\n",
    "        \n",
    "        # return total model\n",
    "        return tf.keras.models.Model(inputs=[hedge_input_feat, cf_input_spot_bid, cf_input_spot_ask,cf_input_inst_payoff, cf_input_df], \n",
    "                              outputs=cf_loss_value)"
   ]
  },
  {
   "cell_type": "markdown",
   "metadata": {},
   "source": [
    "# Creation and Training"
   ]
  },
  {
   "cell_type": "code",
   "execution_count": 11,
   "metadata": {},
   "outputs": [],
   "source": [
    "nn_hedge = Hedger_DO.create_model(120, f_hedge.shape[-1], layers = [{'units':10, 'activation':'tanh'}, \n",
    "                                                             {'units':5, 'activation':'tanh'}, \n",
    "                                                             {'units':1, 'activation':'linear'}])"
   ]
  },
  {
   "cell_type": "code",
   "execution_count": 87,
   "metadata": {},
   "outputs": [],
   "source": [
    "m.compile( optimizer = tf.keras.optimizers.Adam(lr=0.0025, beta_1=0.9, beta_2=0.999), loss = 'mean_squared_error')"
   ]
  },
  {
   "cell_type": "code",
   "execution_count": 13,
   "metadata": {},
   "outputs": [],
   "source": [
    "df = np.ones(shape=(f_hedge.shape[0], f_hedge.shape[1], 1.0))# set discount factors to 1 (no discounting)\n",
    "y = np.zeros((f_hedge.shape[0], ))"
   ]
  },
  {
   "cell_type": "code",
   "execution_count": null,
   "metadata": {},
   "outputs": [],
   "source": [
    "# if you would like to use the tensorboard, uncomment the following lines and adjust the directories accordingly\n",
    "date = dt.datetime.now().strftime(\"%Y%m%d-%H%M%S\")\n",
    "log_dir = 'C:\\\\temp\\\\deep_hedging\\\\' + date\n",
    "cb = [tf.keras.callbacks.TensorBoard(profile_batch=0, \n",
    "                            log_dir=log_dir, histogram_freq=100),]\n",
    "cb.append(tf.keras.callbacks.ModelCheckpoint(log_dir + '\\\\best_model.h5', save_best_only = True))\n"
   ]
  },
  {
   "cell_type": "code",
   "execution_count": 88,
   "metadata": {},
   "outputs": [],
   "source": [
    "\n",
    "history = nn_hedge.fit([f_hedge[:,:-1,:], spot_bid, spot_ask, payoff, df], \n",
    "                    y, verbose=0,\n",
    "                    epochs=40,\n",
    "                    batch_size=20,\n",
    "                    callbacks=cb,\n",
    "                    validation_split=0.2)"
   ]
  },
  {
   "cell_type": "code",
   "execution_count": null,
   "metadata": {},
   "outputs": [],
   "source": [
    "date = dt.datetime.now().strftime(\"%Y%m%d-%H%M%S\")\n",
    "log_dir = 'C:\\\\temp\\\\deep_hedging\\\\Adam\\\\' + date\n",
    "cb = [tf.keras.callbacks.TensorBoard(profile_batch=0, \n",
    "                            log_dir=log_dir, histogram_freq=100),]\n",
    "\n",
    "if True:\n",
    "    def scheduler(epoch):\n",
    "        base_lr = 0.005\n",
    "        if epoch<100:\n",
    "            return 1.0*base_lr\n",
    "        if epoch<250:\n",
    "            return 0.8*base_lr\n",
    "        if epoch <500:\n",
    "            return 0.6*base_lr\n",
    "        if epoch < 1500:\n",
    "            return 0.4*base_lr\n",
    "        if epoch < 2000:\n",
    "            return 0.2*base_lr\n",
    "        return 0.1*base_lr\n",
    "    \n",
    "    cb.append(tf.keras.callbacks.LearningRateScheduler(\n",
    "        scheduler, verbose=0\n",
    "    ))\n",
    "\n",
    "#cb.append(tf.keras.callbacks.ReduceLROnPlateau(\n",
    "#    monitor='val_loss', factor=0.8, patience=300, verbose=0, mode='auto',\n",
    "#    min_delta=0.0001, cooldown=0, min_lr=0))\n",
    "\n",
    "#cb.append(tf.keras.callbacks.ModelCheckpoint(log_dir + '\\\\best_model.h5', save_best_only = True))\n",
    "#history = hedger.fit([f_hedge[:,:-1,:], spot_bid, spot_ask, payoff], np.zeros((spot_bid.shape[0],1)), \n",
    "#                     epochs=200, batch_size=100, callbacks=cb, verbose=0, validation_split=0.2) #1000"
   ]
  },
  {
   "cell_type": "markdown",
   "metadata": {},
   "source": [
    "# Model analysis"
   ]
  },
  {
   "cell_type": "code",
   "execution_count": 112,
   "metadata": {},
   "outputs": [],
   "source": [
    "def compute_bs(spot, strike, ttm, sigma, r):\n",
    "    d1 = ( np.log(spot / strike) + (r + 0.5*sigma**2) * ttm ) / (sigma * np.sqrt(ttm))\n",
    "    d2 = d1 - sigma * np.sqrt(ttm)\n",
    "    price = spot * sp.stats.norm.cdf(d1) - np.exp(-r * ttm) * strike * sp.stats.norm.cdf(d2)\n",
    "    delta = sp.stats.norm.cdf(d1)\n",
    "    return price, delta"
   ]
  },
  {
   "cell_type": "code",
   "execution_count": 89,
   "metadata": {},
   "outputs": [],
   "source": [
    "hedge_model = Hedger_DO.get_hedgemodel(m)"
   ]
  },
  {
   "cell_type": "code",
   "execution_count": 109,
   "metadata": {},
   "outputs": [],
   "source": [
    "ttm = 0.1\n",
    "\n",
    "rel_spots = np.arange(0.5,1.5, 0.010)\n",
    "x=np.empty(shape=(rel_spots.shape[0], 2))\n",
    "x[:,0] = rel_spots\n",
    "x[:,1] = ttm"
   ]
  },
  {
   "cell_type": "code",
   "execution_count": 110,
   "metadata": {},
   "outputs": [
    {
     "data": {
      "text/plain": [
       "[<matplotlib.lines.Line2D at 0x1d48dcdf978>]"
      ]
     },
     "execution_count": 110,
     "metadata": {},
     "output_type": "execute_result"
    },
    {
     "data": {
      "image/png": "[encoded data removed]",
      "text/plain": [
       "<Figure size 432x288 with 1 Axes>"
      ]
     },
     "metadata": {
      "needs_background": "light"
     },
     "output_type": "display_data"
    }
   ],
   "source": [
    "#plt.plot(spot_bid[:,-1,0],payoff[:,-1,0],'.')\n",
    "#plt.figure()\n",
    "delta = hedge_model.predict(x)\n",
    "plt.plot(x[:,0],delta[:,0],'.')\n",
    "#plt.plot(spot_bid[:,118,0],delta[:,118,0],'.')\n",
    "#plt.plot(spot_ask[:,20,0],delta[:,20,0],'.')\n",
    "#plt.plot(spot_ask[:,100,0],delta[:,100,0],'.')"
   ]
  },
  {
   "cell_type": "code",
   "execution_count": 85,
   "metadata": {},
   "outputs": [],
   "source": [
    "rel_strike = 0.9\n",
    "t = np.arange(0.0,1.0,0.001)\n",
    "\n",
    "x = np.empty(shape=(ttm.shape[0], 2))\n",
    "x[:,0] = rel_strike\n",
    "x[:,1] = 1.0-t"
   ]
  },
  {
   "cell_type": "code",
   "execution_count": 86,
   "metadata": {},
   "outputs": [
    {
     "data": {
      "text/plain": [
       "Text(0, 0.5, 'delta')"
      ]
     },
     "execution_count": 86,
     "metadata": {},
     "output_type": "execute_result"
    },
    {
     "data": {
      "image/png": "[encoded data removed]",
      "text/plain": [
       "<Figure size 432x288 with 1 Axes>"
      ]
     },
     "metadata": {
      "needs_background": "light"
     },
     "output_type": "display_data"
    }
   ],
   "source": [
    "plt.plot(1.0-ttm, hedge_model.predict(x), '.')\n",
    "plt.xlabel('t')\n",
    "plt.ylabel('delta')"
   ]
  },
  {
   "cell_type": "code",
   "execution_count": null,
   "metadata": {},
   "outputs": [],
   "source": [
    "plt.hist(spot_bid[:,10,0])"
   ]
  }
 ],
 "metadata": {
  "hide_input": false,
  "kernelspec": {
   "display_name": "Python 3.7, tensorflow 2",
   "language": "python",
   "name": "tensorflow2"
  },
  "language_info": {
   "codemirror_mode": {
    "name": "ipython",
    "version": 3
   },
   "file_extension": ".py",
   "mimetype": "text/x-python",
   "name": "python",
   "nbconvert_exporter": "python",
   "pygments_lexer": "ipython3",
   "version": "3.7.3"
  },
  "toc": {
   "colors": {
    "hover_highlight": "#DAA520",
    "navigate_num": "#000000",
    "navigate_text": "#333333",
    "running_highlight": "#FF0000",
    "selected_highlight": "#FFD700",
    "sidebar_border": "#EEEEEE",
    "wrapper_background": "#FFFFFF"
   },
   "moveMenuLeft": true,
   "nav_menu": {
    "height": "11.9886px",
    "width": "251.989px"
   },
   "navigate_menu": true,
   "number_sections": true,
   "sideBar": true,
   "threshold": 4,
   "toc_cell": false,
   "toc_section_display": "block",
   "toc_window_display": true,
   "widenNotebook": false
  },
  "varInspector": {
   "cols": {
    "lenName": 16,
    "lenType": 16,
    "lenVar": 40
   },
   "kernels_config": {
    "python": {
     "delete_cmd_postfix": "",
     "delete_cmd_prefix": "del ",
     "library": "var_list.py",
     "varRefreshCmd": "print(var_dic_list())"
    },
    "r": {
     "delete_cmd_postfix": ") ",
     "delete_cmd_prefix": "rm(",
     "library": "var_list.r",
     "varRefreshCmd": "cat(var_dic_list()) "
    }
   },
   "types_to_exclude": [
    "module",
    "function",
    "builtin_function_or_method",
    "instance",
    "_Feature"
   ],
   "window_display": false
  }
 },
 "nbformat": 4,
 "nbformat_minor": 4
}
