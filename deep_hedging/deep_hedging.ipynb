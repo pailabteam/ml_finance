{
 "cells": [
  {
   "cell_type": "markdown",
   "metadata": {},
   "source": [
    "# Deep Hedging\n",
    "\n",
    "You will see in this notebook"
   ]
  },
  {
   "cell_type": "code",
   "execution_count": 1,
   "metadata": {},
   "outputs": [],
   "source": [
    "import os\n",
    "import scipy.stats as stats\n",
    "import numpy as np\n",
    "import datetime as dt\n",
    "import matplotlib.pyplot as plt\n",
    "import tensorflow as tf\n",
    "\n",
    "tf.keras.backend.set_floatx('float64')\n",
    "\n",
    "%matplotlib inline"
   ]
  },
  {
   "cell_type": "markdown",
   "metadata": {},
   "source": [
    "# Problem formulation and Input Data"
   ]
  },
  {
   "cell_type": "markdown",
   "metadata": {},
   "source": [
    "We investigate the problem of hedging a Call where the underlying can only be traded with a relative bid-ask spread, i.e. if you by the underlying you have to pay\n",
    "$$S_{bid}=s\\dot S_{mid}$$ and if you sell "
   ]
  },
  {
   "cell_type": "code",
   "execution_count": 2,
   "metadata": {},
   "outputs": [],
   "source": [
    "vol = 0.2\n",
    "strike = 100.0\n",
    "spot = 100.0\n",
    "ba_spread = 0.00\n",
    "ttm = 1.0"
   ]
  },
  {
   "cell_type": "code",
   "execution_count": 3,
   "metadata": {
    "code_folding": []
   },
   "outputs": [],
   "source": [
    "def compute_data(ttm, n_timesteps, n_samples, final_payoff, vol, spot, ba_spread):\n",
    "    \"\"\" This method simulates bid-ask spot paths using geometric brownian motion and returns \n",
    "    the path together with the evaluation of a given payoff at the final simulation date.\n",
    "    Args:\n",
    "        ttm (float): The time-to-maturity of the simulation\n",
    "        n_timesteps (int): Number of timesteps used to simulate the paths\n",
    "        n_samples (int): Number of monte carlo simulations\n",
    "        final_payoff (function): Function that is evaluated at the final spot values\n",
    "        vol: The volatility of the geometric brownian motion (annualized)\n",
    "        ba_spread: Bid-ask spread as percentage, i.e. spot_bid = spot*(1.0-ba_spread*0.5)\n",
    "\n",
    "    Returns:\n",
    "        [3D numpy-array]: The spot bid value\n",
    "        [3D numpy-array]: The spot ask value\n",
    "        [3D numpy-array]: Timegrid (of time-to-maturities)\n",
    "        [3D numpy-array]: Evaluated payoff (at maturity)\n",
    "    \"\"\"\n",
    "    spot_bid = np.empty((n_samples, n_timesteps,))\n",
    "    spot_ask = np.empty((n_samples, n_timesteps,))\n",
    "    payoff = np.zeros((n_samples,n_timesteps,))\n",
    "    timegrid = np.linspace(0.0, ttm, n_timesteps)\n",
    "    call_ttm = np.empty((n_samples, n_timesteps,))\n",
    "    simulated_spot = np.full((n_samples,), spot)\n",
    "    spot_bid[:,0] = simulated_spot*(1.0-ba_spread*0.5)\n",
    "    spot_ask[:,0] = simulated_spot*(1.0+ba_spread*0.5)\n",
    "    \n",
    "    for i in range(n_samples):\n",
    "        call_ttm[i,:] = ttm-timegrid\n",
    "    \n",
    "    vol_2 = vol**2\n",
    "    for i in range(1,timegrid.shape[0]):\n",
    "        dt = timegrid[i]-timegrid[i-1]\n",
    "        rand = np.random.standard_normal((n_samples,))\n",
    "        simulated_spot = simulated_spot * np.exp((- 0.5 * vol_2) * dt +\n",
    "                                         vol * np.sqrt(dt) * rand)\n",
    "        spot_bid[:,i] = simulated_spot*(1.0-ba_spread*0.5)\n",
    "        spot_ask[:,i] = simulated_spot*(1.0+ba_spread*0.5)\n",
    "    payoff[:,-1] = final_payoff(simulated_spot)\n",
    "    return np.atleast_3d(spot_bid), np.atleast_3d(spot_ask), np.atleast_3d(call_ttm), np.atleast_3d(payoff)\n",
    "\n",
    "def call_payoff(strike):\n",
    "    \"\"\"Defines the call payoff function for a call with strike strike.\n",
    "    \"\"\"\n",
    "    def c(x):\n",
    "        return np.maximum(x-strike, 0.0)\n",
    "    return c\n",
    "\n",
    "\n",
    "spot_bid, spot_ask, call_ttm, payoff = compute_data(ttm, n_timesteps=120, n_samples=20000, \n",
    "                                                    final_payoff=call_payoff(strike=strike), vol=vol, \n",
    "                                                    spot=spot, ba_spread=ba_spread)\n",
    "\n",
    "\n",
    "f_hedge=np.concatenate([(spot_bid+spot_ask)/(2.0*strike), call_ttm], axis=2)"
   ]
  },
  {
   "cell_type": "code",
   "execution_count": 4,
   "metadata": {},
   "outputs": [],
   "source": [
    "if False:\n",
    "    selection = (spot_bid[:,-1,0]>140.0) | (spot_bid[:,-1,0] < 0.6)\n",
    "    spot_bid_sel = spot_bid[selection]\n",
    "    spot_ask_sel = spot_ask[selection]\n",
    "    call_ttm_sel = call_ttm[selection]\n",
    "    payoff_sel = payoff[selection]\n",
    "    f_hedge_sel=np.concatenate([(spot_bid_sel+spot_ask_sel)/(2.0*strike), call_ttm_sel], axis=2)"
   ]
  },
  {
   "cell_type": "markdown",
   "metadata": {},
   "source": [
    "# Creating the network"
   ]
  },
  {
   "cell_type": "code",
   "execution_count": 5,
   "metadata": {
    "code_folding": []
   },
   "outputs": [],
   "source": [
    "class Hedger:\n",
    "    \n",
    "    @staticmethod\n",
    "    def get_hedge_model(m, name_time_distributed = None):\n",
    "        if name_time_distributed is None:\n",
    "            name_time_distributed = 'time_distributed/hedge_model'\n",
    "        return m.get_layer(name_time_distributed).layer\n",
    "        \n",
    "    \n",
    "    @staticmethod\n",
    "    def _create_hedge_model(n_features,layers=[{'units':10, 'activation':'tanh'}, {'units':5, 'activation':'tanh'}, {'units':1, 'activation':'linear'}]):\n",
    "        hedge_input_feat = tf.keras.layers.Input(shape=(n_features), ragged=False, name='hedge_input')\n",
    "        previous = tf.keras.layers.Dense(name='hedge_model_0', **layers[0])(hedge_input_feat)\n",
    "        for k in range(1, len(layers)):\n",
    "            if k < len(layers)-1:\n",
    "                name = 'hedge_model_'+str(k)\n",
    "            else:\n",
    "                name = 'hedge_qty'\n",
    "            previous = tf.keras.layers.Dense(name = name, **layers[k])(previous)\n",
    "        return tf.keras.models.Model(name = 'hedge_model', inputs=hedge_input_feat, \n",
    "                              outputs=previous)\n",
    "        return previous\n",
    "        \n",
    "    @staticmethod\n",
    "    def create_model(n_times, n_features,\n",
    "                     layers=[{'units':10, 'activation':'tanh'}, {'units':5, 'activation':'tanh'}, {'units':1, 'activation':'linear'}]):\n",
    "        # create hedge model\n",
    "        #\n",
    "        hedge_input_feat = tf.keras.layers.Input(shape=(n_times-1, n_features), ragged=False, name='hedge_input')\n",
    "        hedge_model = Hedger._create_hedge_model(n_features, layers)\n",
    "        cf_input_hedge_qty = tf.keras.layers.TimeDistributed(hedge_model, name='time_distributed/hedge_model')(hedge_input_feat)\n",
    "            \n",
    "        # In our example, the loss function in the training will be applied the PnL of the hedging strategy on each path.\n",
    "        # The PnL computation is done in the following lines.\n",
    "        #\n",
    "        cf_input_spot_bid = tf.keras.Input(shape=(n_times,1) ,name='CF_input_spot_bid')\n",
    "        cf_input_spot_ask = tf.keras.Input(shape=(n_times,1) ,name='CF_input_spot_ask')\n",
    "        \n",
    "        cf_input_inst_payoff = tf.keras.Input(shape=(n_times,1) ,name='CF_input_call_payoff')\n",
    "        cf_input_df = tf.keras.Input(shape=(n_times,1) ,name='CF_input_df')\n",
    "\n",
    "        # hedge cashflows from trades\n",
    "        cf_dqty_inner = tf.keras.layers.Lambda(lambda x: x[:,1:] - x[:,:-1])(cf_input_hedge_qty)\n",
    "        cf_dqty0 = tf.keras.layers.Lambda(lambda x: tf.keras.backend.reshape(x[:,0,:], shape=(-1,1,1)))(cf_input_hedge_qty)\n",
    "        cf_dqtyT = tf.keras.layers.Lambda(lambda x: tf.keras.backend.reshape(-x[:,-1,:], shape=(-1,1,1)))(cf_input_hedge_qty)\n",
    "        cf_dqty = tf.keras.layers.Concatenate(axis=1)([cf_dqty0, cf_dqty_inner, cf_dqtyT])\n",
    "\n",
    "        cf_dqty_pos = tf.keras.layers.Lambda(lambda x: tf.keras.backend.minimum(-1.0*x, 0.0))(cf_dqty)\n",
    "        cf_dqty_neg = tf.keras.layers.Lambda(lambda x: tf.keras.backend.maximum(-1.0*x, 0.0))(cf_dqty)\n",
    "\n",
    "        cf_hedge_cashflow_buy = tf.keras.layers.Multiply()([cf_dqty_pos, cf_input_spot_ask])\n",
    "        cf_hedge_cashflow_sell = tf.keras.layers.Multiply()([cf_dqty_neg, cf_input_spot_bid])\n",
    "        cf_hedge_cashflow = tf.keras.layers.Add(name='CF_hedge_cashflow_trades')([cf_hedge_cashflow_buy, cf_hedge_cashflow_sell])\n",
    "\n",
    "        # all cashflows collected\n",
    "        cf_cashflow = tf.keras.layers.Add(name='CF_cashflow_total')([cf_input_inst_payoff, cf_hedge_cashflow])\n",
    "        # discounted cashflow defines the loss\n",
    "        cf_loss_timestep = tf.keras.layers.Multiply(name='CF_cashflows_discounted')([cf_input_df, cf_cashflow])\n",
    "        # aggregate loss output (over time steps)\n",
    "        cf_loss_value = tf.keras.layers.Lambda(lambda x: tf.keras.backend.sum(x, axis=1, keepdims=True), name='loss')(cf_loss_timestep)\n",
    "        \n",
    "        # return total model\n",
    "        return tf.keras.models.Model(inputs=[hedge_input_feat, cf_input_spot_bid, cf_input_spot_ask, cf_input_inst_payoff, cf_input_df], \n",
    "                              outputs=cf_loss_value)"
   ]
  },
  {
   "cell_type": "markdown",
   "metadata": {},
   "source": [
    "# Creation and Training"
   ]
  },
  {
   "cell_type": "code",
   "execution_count": 6,
   "metadata": {},
   "outputs": [],
   "source": [
    "nn_hedge = Hedger.create_model(120, f_hedge.shape[-1], layers = [{'units':10, 'activation':'tanh'}, \n",
    "                                                             {'units':5, 'activation':'tanh'}, \n",
    "                                                             {'units':1, 'activation':'linear'}])"
   ]
  },
  {
   "cell_type": "code",
   "execution_count": 7,
   "metadata": {},
   "outputs": [],
   "source": [
    "@tf.function\n",
    "def variance_loss(y_true, y_pred):\n",
    "    x = tf.nn.moments(y_pred, axes=0)\n",
    "    return x[1]\n",
    "\n",
    "\n",
    "@tf.function\n",
    "def expected_shortfall_10pct(y_true, y_pred):\n",
    "    \"\"\"[summary]\n",
    "\n",
    "    Args:\n",
    "        y_true ([type]): [description]\n",
    "        y_pred ([type]): [description]\n",
    "\n",
    "    Returns:\n",
    "        [type]: [description]\n",
    "    \"\"\"\n",
    "    pnl = tf.keras.backend.reshape(y_pred - y_true, (-1, ))\n",
    "    pnl = tf.multiply(pnl, -1.0)\n",
    "\n",
    "    n_pct = tf.keras.backend.round(tf.multiply(\n",
    "        tf.keras.backend.cast(tf.keras.backend.shape(pnl)[0], tf.float32)  , 0.1))\n",
    "\n",
    "    pnl_past_cutoff = tf.nn.top_k(pnl, tf.keras.backend.cast(n_pct, tf.int32))[0]\n",
    "    return tf.reduce_mean(pnl_past_cutoff)"
   ]
  },
  {
   "cell_type": "code",
   "execution_count": 8,
   "metadata": {},
   "outputs": [],
   "source": [
    "nn_hedge.compile( optimizer = tf.keras.optimizers.Adam(lr=0.0025, beta_1=0.9, beta_2=0.999), loss = variance_loss)#'mean_squared_error')"
   ]
  },
  {
   "cell_type": "code",
   "execution_count": 9,
   "metadata": {},
   "outputs": [],
   "source": [
    "df = np.ones(shape=(f_hedge.shape[0], f_hedge.shape[1], 1))# set discount factors to 1 (no discounting)\n",
    "y = np.zeros((f_hedge.shape[0], ))"
   ]
  },
  {
   "cell_type": "code",
   "execution_count": 10,
   "metadata": {},
   "outputs": [],
   "source": [
    "# if you would like to use the tensorboard, uncomment the following lines and adjust the directories accordingly\n",
    "date = dt.datetime.now().strftime(\"%Y%m%d-%H%M%S\")\n",
    "log_dir = 'C:\\\\temp\\\\deep_hedging\\\\' + date\n",
    "cb = [tf.keras.callbacks.TensorBoard(profile_batch=0, \n",
    "                            log_dir=log_dir, histogram_freq=100),]\n",
    "cb.append(tf.keras.callbacks.ModelCheckpoint('model_5_percent_spread.h5', save_best_only = True))"
   ]
  },
  {
   "cell_type": "code",
   "execution_count": 11,
   "metadata": {},
   "outputs": [],
   "source": [
    "if False:\n",
    "    def scheduler(epoch):\n",
    "            base_lr = 0.05\n",
    "            if epoch<2000:\n",
    "                return 1.0*base_lr\n",
    "            elif epoch<80:\n",
    "                return 1.0*base_lr\n",
    "            elif epoch<160:\n",
    "                return 0.5*base_lr\n",
    "            return 0.25*base_lr\n",
    "    cb.append(tf.keras.callbacks.LearningRateScheduler(\n",
    "        scheduler, verbose=0\n",
    "    ))\n"
   ]
  },
  {
   "cell_type": "code",
   "execution_count": 12,
   "metadata": {},
   "outputs": [],
   "source": [
    "history = nn_hedge.fit([f_hedge[:,:-1,:], spot_bid, spot_ask, payoff, df], \n",
    "                    y, verbose=0,\n",
    "                    epochs=100,\n",
    "                    batch_size=100,\n",
    "                    callbacks=cb,\n",
    "                    validation_split=0.2)"
   ]
  },
  {
   "cell_type": "markdown",
   "metadata": {},
   "source": [
    "# Model analysis"
   ]
  },
  {
   "cell_type": "markdown",
   "metadata": {},
   "source": [
    "In this section, we analyze the behaviour of our deep hedging model. For this, we load two different models: One which has been calibrated with 0% bid-ask spread and one with 5% spread. Note that you can simply read two different cases"
   ]
  },
  {
   "cell_type": "code",
   "execution_count": 13,
   "metadata": {},
   "outputs": [],
   "source": [
    "def compute_bs(spot, strike, ttm, sigma, r):\n",
    "    d1 = ( np.log(spot / strike) + (r + 0.5*sigma**2) * ttm ) / (sigma * np.sqrt(ttm))\n",
    "    d2 = d1 - sigma * np.sqrt(ttm)\n",
    "    price = spot * stats.norm.cdf(d1) - np.exp(-r * ttm) * strike * stats.norm.cdf(d2)\n",
    "    delta = stats.norm.cdf(d1)\n",
    "    return price, delta"
   ]
  },
  {
   "cell_type": "code",
   "execution_count": 15,
   "metadata": {},
   "outputs": [],
   "source": [
    "nn_hedge = tf.keras.models.load_model('model_5_percent_spread.h5', custom_objects={'variance_loss':variance_loss, \n",
    "                                                                                   'expected_shortfall_10pct': expected_shortfall_10pct})"
   ]
  },
  {
   "cell_type": "code",
   "execution_count": 21,
   "metadata": {},
   "outputs": [
    {
     "name": "stdout",
     "output_type": "stream",
     "text": [
      "BS price: 7.965567455405804\n",
      "Mean pnl hedged portfolio: 7.952026346974864  variance hedged portfolio: 0.634244371146224\n",
      "Mean payoff: 7.94368662448287, variance payoff: 175.819801375998\n"
     ]
    },
    {
     "data": {
      "image/png": "[encoded data removed]",
      "text/plain": [
       "<Figure size 432x288 with 1 Axes>"
      ]
     },
     "metadata": {
      "needs_background": "light"
     },
     "output_type": "display_data"
    }
   ],
   "source": [
    "pnl = nn_hedge.predict([f_hedge[:,:-1,:], spot_bid, spot_ask,  payoff, df[:]])#\n",
    "plt.hist(pnl[:,0,0], bins=50)\n",
    "#plt.hist(payoff[:,-1,0], bins=50)\n",
    "np.var(pnl[:,0,0])\n",
    "#np.var(payoff[:,-1,0])\n",
    "bs_price, _ = compute_bs(spot, strike, ttm, vol, 0.0)\n",
    "print('BS price: ' + str(bs_price))\n",
    "print('Mean pnl hedged portfolio: ' + str(np.mean(pnl[:,0,0])), ' variance hedged portfolio: ' + str(np.var(pnl[:,0,0])))\n",
    "print('Mean payoff: ' + str(np.mean(payoff[:,-1,0])) + ', variance payoff: ' + str(np.var(payoff[:,-1,0])))\n",
    "\n"
   ]
  },
  {
   "cell_type": "code",
   "execution_count": 18,
   "metadata": {},
   "outputs": [],
   "source": [
    "hedge_model = Hedger.get_hedge_model(nn_hedge)"
   ]
  },
  {
   "cell_type": "code",
   "execution_count": 19,
   "metadata": {},
   "outputs": [],
   "source": [
    "def plot_delta_vs_spot(model, ttm):\n",
    "    spots = np.arange(0.5*spot,1.5*spot, 0.01*spot)\n",
    "    x=np.empty(shape=(spots.shape[0], 2))\n",
    "    x[:,0] = spots/strike\n",
    "    x[:,1] = ttm\n",
    "    delta = hedge_model.predict(x)\n",
    "    plt.plot(spots,-delta[:,0],'.', label='Deep Hedging') #since the above model hedges a long Call position, we have to use -delta to compare with BS delta\n",
    "    # now compute and plot reference delta\n",
    "    bs_delta = np.empty(shape=(spots.shape[0]))\n",
    "    for i,s in enumerate(spots):\n",
    "        _, bs_delta[i] = compute_bs(s, strike, ttm, vol, 0.0)\n",
    "    plt.plot(spots,bs_delta,'.', label='Black-Scholes')\n",
    "    plt.legend()\n",
    "    plt.xlabel('spot')\n",
    "    plt.ylabel('delta')\n",
    "    plt.title('Black-Scholes vs Deep Hedging Delta for Call with ttm=' + str(ttm))\n",
    "    \n",
    "def plot_delta_vs_ttm(model, spot):\n",
    "    ttm_ = np.arange(0.0, ttm, 1.0/365.0)\n",
    "    x=np.empty(shape=(ttm_.shape[0], 2))\n",
    "    x[:,0] = spot/strike\n",
    "    x[:,1] = ttm_\n",
    "    delta = hedge_model.predict(x)\n",
    "    plt.plot(ttm_,-delta[:,0],'.', label='Deep Hedging') #since the above model hedges a long Call position, we have to use -delta to compare with BS delta\n",
    "    # now compute and plot reference delta\n",
    "    bs_delta = np.empty(shape=(ttm_.shape[0]))\n",
    "    for i,t in enumerate(ttm_):\n",
    "        _, bs_delta[i] = compute_bs(spot, strike, t, vol, 0.0)\n",
    "    plt.plot(ttm_, bs_delta,'.', label='Black-Scholes')\n",
    "    plt.legend()\n",
    "    plt.xlabel('ttm')\n",
    "    plt.ylabel('delta')\n",
    "    plt.title('Black-Scholes vs Deep Hedging Delta for Call for spot=' + str(spot))"
   ]
  },
  {
   "cell_type": "code",
   "execution_count": 20,
   "metadata": {},
   "outputs": [
    {
     "name": "stderr",
     "output_type": "stream",
     "text": [
      "C:\\Users\\Anwender\\Anaconda3\\envs\\tensorflow2\\lib\\site-packages\\ipykernel_launcher.py:2: RuntimeWarning: divide by zero encountered in double_scalars\n",
      "  \n"
     ]
    },
    {
     "data": {
      "image/png": "[encoded data removed]",
      "text/plain": [
       "<Figure size 1152x432 with 2 Axes>"
      ]
     },
     "metadata": {
      "needs_background": "light"
     },
     "output_type": "display_data"
    }
   ],
   "source": [
    "plt.figure(figsize=(16,6))\n",
    "plt.subplot(1,2,1)\n",
    "plot_delta_vs_spot(hedge_model, ttm=1.0)\n",
    "plt.subplot(1,2,2)\n",
    "plot_delta_vs_ttm(hedge_model, spot=90)"
   ]
  },
  {
   "cell_type": "code",
   "execution_count": null,
   "metadata": {},
   "outputs": [],
   "source": []
  }
 ],
 "metadata": {
  "hide_input": false,
  "kernelspec": {
   "display_name": "Python 3.7, tensorflow 2",
   "language": "python",
   "name": "tensorflow2"
  },
  "language_info": {
   "codemirror_mode": {
    "name": "ipython",
    "version": 3
   },
   "file_extension": ".py",
   "mimetype": "text/x-python",
   "name": "python",
   "nbconvert_exporter": "python",
   "pygments_lexer": "ipython3",
   "version": "3.7.3"
  },
  "toc": {
   "colors": {
    "hover_highlight": "#DAA520",
    "navigate_num": "#000000",
    "navigate_text": "#333333",
    "running_highlight": "#FF0000",
    "selected_highlight": "#FFD700",
    "sidebar_border": "#EEEEEE",
    "wrapper_background": "#FFFFFF"
   },
   "moveMenuLeft": true,
   "nav_menu": {
    "height": "11.9886px",
    "width": "251.989px"
   },
   "navigate_menu": true,
   "number_sections": true,
   "sideBar": true,
   "threshold": 4,
   "toc_cell": false,
   "toc_section_display": "block",
   "toc_window_display": true,
   "widenNotebook": false
  },
  "varInspector": {
   "cols": {
    "lenName": 16,
    "lenType": 16,
    "lenVar": 40
   },
   "kernels_config": {
    "python": {
     "delete_cmd_postfix": "",
     "delete_cmd_prefix": "del ",
     "library": "var_list.py",
     "varRefreshCmd": "print(var_dic_list())"
    },
    "r": {
     "delete_cmd_postfix": ") ",
     "delete_cmd_prefix": "rm(",
     "library": "var_list.r",
     "varRefreshCmd": "cat(var_dic_list()) "
    }
   },
   "types_to_exclude": [
    "module",
    "function",
    "builtin_function_or_method",
    "instance",
    "_Feature"
   ],
   "window_display": false
  }
 },
 "nbformat": 4,
 "nbformat_minor": 4
}
