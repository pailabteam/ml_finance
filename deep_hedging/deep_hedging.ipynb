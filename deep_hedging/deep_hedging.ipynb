{
 "cells": [
  {
   "cell_type": "markdown",
   "metadata": {},
   "source": [
    "<a href=\"https://www.kineticmind.de\">\n",
    "<img alt=\"kineticmind\" src=\"images/kineticmind_Schriftzug_weiss_noshadow.png\" alt=\"Drawing\" style=\"width: 100px;\"/>\n",
    "</a>\n",
    "<a href=\"https://www.rivacon.com\">\n",
    "<img src=\"../images/logo.png\" alt=\"Drawing\" style=\"width: 100px;\"/>\n",
    "</a>"
   ]
  },
  {
   "cell_type": "markdown",
   "metadata": {},
   "source": [
    "# Deep Hedging"
   ]
  },
  {
   "cell_type": "markdown",
   "metadata": {},
   "source": [
    "This notebook demonstrates how a neural network can be used to find a dynamic hedging strategy for a call option. One of the first contributions to this topic with regard to deep neural networks is the paper\n",
    "[Deep Hedging](https://arxiv.org/abs/1802.03042) by Buehler, Gonon, Teichmann and Wood.\n",
    "\n",
    "In order to keep the computations feasible on a computer with no dedicated hardware for high performance computing, we use standard dense neural networks (DNN). These are applied at every time step where the hedge is adapted, but do not allow to pass learned information from one time step to the next. It is demonstrated below that for simple instruments like a call DNNs work very well. This is not suprising, since Black-Scholes theory tells that a vanilla option can be perfectly hedged by the negative delta position $-\\Delta(t,S_t)$, which does not depend on any past information either.\n",
    "\n",
    "Most of the implementations in the literature that investigate more complex market setups (like the one cited above) use recurrent neural networks (RNNs), which are much more flexible, since they allow to pass information in time direction too, but are much more time consuming too.\n",
    "\n",
    "We investigate the problem of hedging a vanilla call with payoff\n",
    "$$\n",
    "\\max(S_T-K,0)\n",
    "$$\n",
    "where $S_t$ denotes the spot at time $t$, $K$ is the strike and $T$ the expiry. The underlying can be traded with a bid-ask spread $\\delta$, defined relative to the spot $S$, i.e. buying the underlying costs\n",
    "$$S_{ask}= S\\cdot (1.0+0.5\\cdot \\delta),$$\n",
    "and selling it yields \n",
    "$$S_{bid}= S\\cdot(1.0-0.5\\cdot \\delta).$$\n",
    "The underlying price $S_t$ is modeled by a geometric Brownian motion and we assume zero interest rates, borrow rates and dividends, respectively."
   ]
  },
  {
   "cell_type": "code",
   "execution_count": 1,
   "metadata": {},
   "outputs": [],
   "source": [
    "# Before we can really start, we import all necessary modules\n",
    "import os\n",
    "import scipy.stats as stats\n",
    "import numpy as np\n",
    "import datetime as dt\n",
    "import matplotlib.pyplot as plt\n",
    "import tensorflow as tf\n",
    "\n",
    "tf.keras.backend.set_floatx('float64')\n",
    "\n",
    "%matplotlib inline"
   ]
  },
  {
   "cell_type": "markdown",
   "metadata": {},
   "source": [
    "## Global Settings\n",
    "<a id='global_settings'></a>"
   ]
  },
  {
   "cell_type": "code",
   "execution_count": 2,
   "metadata": {},
   "outputs": [],
   "source": [
    "vol = 0.2 #volatility of GBM\n",
    "strike = 100.0 # Call strike\n",
    "spot = 100.0 # initial spot\n",
    "ba_spread = 0.01 # bid-ask spread\n",
    "ttm = 1.0 # time to maturity (equals T in formul above)"
   ]
  },
  {
   "cell_type": "markdown",
   "metadata": {},
   "source": [
    "## Problem formulation and network achitecture"
   ]
  },
  {
   "cell_type": "markdown",
   "metadata": {},
   "source": [
    "For hedging the call option, we have to find hedge quantities $q_i = q(t_i, S_{t_i}, \\ldots)$ that determine the position in the underlying such that the portfolio becomes risk free. In theory, setting up the portfolio generates an initial cash flow (the price of the call option) and any subsequent adaption following the optimal hedging strategy is self financing, meaning an internal re-weighting of the cash and hedge positions in the portfolio consisting of the call option, the position in the underlying and the cash position.\n",
    "\n",
    "In practice, we need to deal with at least two imperfections: firstly, continuous trading is not feasible in reality, and, secondly, real world markets have transaction costs. The goal is to identify a function $q(t, S_t, \\ldots)$, such that the portfolio is optimally hedged with respect to some loss function. The dots (\"$\\ldots$\") indicate that any known information can be used as input for the loss function, not only the hedge time and the spot value.\n",
    "\n",
    "The steps to estimate this hedge function $q$ by means of neural networks are the following:\n",
    "* Define a time discretization $0=t_0<...<t_{N-1}<t_N=T$ covering the remaining lifetime of the option, i.e. starting with $t_0$ as today and ending with $t_N$, the expiry of the option.\n",
    "* Generate simulted spot paths $S_j=(S_{i,j})_{0\\le i \\le N}$ where $S_{i,j}$ denotes the spot price of the $j$-th simulated path at time $t_i$.\n",
    "* Determine a loss function $L$ defined on the cumulated cash flows at the hedge times, defining the P&L of the portfolio. Typical examples of loss functions minimize the variance or the expexted shortfall of the P&L.\n",
    "\n",
    "The general optimization problem can now be described by\n",
    "$$\n",
    "q^* (t,S) = {\\rm arg} \\min _{\\hspace{-0.7cm} q} L\\bigl(\\sum_{i=0}^{N} {\\rm cash flow}(q(t_i,S_{t_i},\\ldots))\\bigr).\n",
    "$$\n",
    "\n",
    "It is worth being more specific about the cash flows that are computed for the hedge times from $t_0$ to $t_N$ and used to compute the P&L for optimization.\n",
    "\n",
    "Although the simulated spot paths are computed from a single parametrization of a Black-Scholes model (to keep the code simple), __it is important to ensure that the cash flows are model free__, which means they do not involve any computations that depend on a financial model (like the Black-Scholes model).\n",
    "In our implementation here the cash flows consist of the gain/loss of trading the underlying and the payoff of the option at expiry. Other model-free cash flows could be (deterministic) dividend and interest rate payments, or cash flows from actions like executing an american option.\n",
    "\n",
    "The initial price of the call option is definitely not model-free, and therefore not considered as cash-flow in the P&L calculation. As a consequence, the level of the optimized portfolio P&L (using $q^*$) will be close to the \"fair value\" of the call. \n",
    "\n",
    "Generally speaking, the described procedure can be used to get an idea of a fair value for an derivative that has to be hedged in imperfect markets.\n",
    "\n",
    "The requirement of using model-free cash flows does not prevent us from using model-dependent input variables for the hedge quantity function $q(t, S_t, \\ldots)$. The final hedge quantities will be determined by the neural network, and, for instance, even if the optimal hedge quantities do not follow a BS delta, the BS delta as input may serve as a baseline for the optimal hedges, helping to stabilize the optimal hedge quantities.\n",
    "\n",
    "The DNN based network architecture is summarized by this graphics:\n",
    "<img src=\"images/deep_hedging_tdnn.png\" alt=\"Drawing\" style=\"width: 600px;\"/>\n",
    "\n",
    "\n"
   ]
  },
  {
   "cell_type": "markdown",
   "metadata": {},
   "source": [
    "### Regularization"
   ]
  },
  {
   "cell_type": "markdown",
   "metadata": {},
   "source": [
    "One possible way to enhance performance of AI models is to incldue some domain knowlege into the training process or architecture. In the case of hedging one reasonable assumption for a call option is that the hedge quantity (delta) should be monotonically increasing with increasing spot. To achieve this, the network creation below includes a regularization layer that penalizes negative derivatives w.r.t. input spots (computed with tensorflows *GradientTape*). "
   ]
  },
  {
   "cell_type": "markdown",
   "metadata": {},
   "source": [
    "### Black-Scholes Delta as Baseline"
   ]
  },
  {
   "cell_type": "markdown",
   "metadata": {},
   "source": [
    "The code below does also allow to use a precomputed Black-Scholes delta as baseline, i.e. the neural network is trained to just correct the Black-Scholes delta."
   ]
  },
  {
   "cell_type": "markdown",
   "metadata": {},
   "source": [
    "### Network creation"
   ]
  },
  {
   "cell_type": "code",
   "execution_count": 3,
   "metadata": {
    "code_folding": [
     0,
     26,
     30,
     47
    ]
   },
   "outputs": [],
   "source": [
    "class GradientRegularizationLayer(tf.keras.layers.Layer):\n",
    "    \"\"\"Layer to penalize negative deltas.\n",
    "    \"\"\"\n",
    "    def __init__(self, reg_factor, **kwargs):\n",
    "        \n",
    "        super(GradientRegularizationLayer, self).__init__(**kwargs)\n",
    "\n",
    "        self.reg_factor = reg_factor\n",
    "\n",
    "        self.grad_penalty = tf.keras.layers.Lambda(lambda x: self.reg_factor * tf.keras.backend.maximum(x, 0.0))\n",
    "            \n",
    "    def call(self, inputs):\n",
    "        \n",
    "        reg_loss = self.grad_penalty(inputs)\n",
    "        self.add_loss(tf.reduce_sum(reg_loss))\n",
    "        \n",
    "        return inputs\n",
    "\n",
    "    def get_config(self):\n",
    "\n",
    "        config = super(GradientRegularizationLayer, self).get_config()\n",
    "        config.update({'reg_factor': self.reg_factor})\n",
    "\n",
    "        return config\n",
    "\n",
    "\n",
    "class Hedger:\n",
    "    \"\"\"This class encapsulates all methods needed to create the hedge model as well as the time distributed model needed to train the hedge model.\n",
    "    \"\"\"\n",
    "    @staticmethod\n",
    "    def get_hedge_model(m, name_time_distributed = None):\n",
    "        \"\"\"Method to extract the hedge model from the overall time distributed network\n",
    "\n",
    "        Args:\n",
    "            m (time distributed network): The time disributed network tht was used for training\n",
    "            name_time_distributed (str): If specified, the name of the inner model. If not specified the default 'time_distributed/hedge_model' is used.\n",
    "\n",
    "        Returns:\n",
    "            tf.keras.model: The network representing the hedge model q\n",
    "        \"\"\"\n",
    "\n",
    "        if name_time_distributed is None:\n",
    "            name_time_distributed = 'time_distributed/hedge_model'\n",
    "        return m.get_layer(name_time_distributed).layer\n",
    "        \n",
    "    \n",
    "    @staticmethod\n",
    "    def _create_hedge_model(n_features,\n",
    "                            layers=[{'units':10, 'activation':'tanh'}, \n",
    "                                    {'units':5, 'activation':'tanh'}, \n",
    "                                    {'units':1, 'activation':'linear'}\n",
    "                                   ]):\n",
    "        \"\"\"Method to create the network for the hedge model q\n",
    "        \n",
    "        Args:\n",
    "            n_features (int): Number of features\n",
    "            layers (list of dict): List of layers used for the network contruction.\n",
    "        \"\"\"\n",
    "        hedge_input_feat = tf.keras.layers.Input(shape=(n_features), ragged=False, name='hedge_input')\n",
    "        previous = tf.keras.layers.Dense(name='hedge_model_0', **layers[0])(hedge_input_feat)\n",
    "        for k in range(1, len(layers)):\n",
    "            if k < len(layers)-1:\n",
    "                name = 'hedge_model_'+str(k)\n",
    "            else:\n",
    "                name = 'hedge_qty'\n",
    "            previous = tf.keras.layers.Dense(name = name, **layers[k])(previous)\n",
    "        return tf.keras.models.Model(name = 'hedge_model', inputs=hedge_input_feat, \n",
    "                              outputs=previous)\n",
    "        return previous\n",
    "        \n",
    "    @staticmethod\n",
    "    def create_model(n_times, \n",
    "                     n_features,\n",
    "                     model_type='plain',\n",
    "                     layers=[{'units':10, 'activation':'tanh'},\n",
    "                             {'units':5, 'activation':'tanh'},\n",
    "                             {'units':1, 'activation':'linear'}\n",
    "                            ],\n",
    "                     reg_factor=100.0\n",
    "                    ):\n",
    "        \"\"\"Create the time distributed network used to train the hedge model.\n",
    "        \n",
    "        Args:\n",
    "            n_times (int): Number of time steps\n",
    "            layers (list of dict): List of layers used for the network contruction of th hedge model q.\n",
    "            model_type: Demonstration of different model types. Implemented are:\n",
    "                        'plain': standard dense neural network\n",
    "                        'deltabase': gives the Black Scholes delta as input and as baseline\n",
    "                        'gradreg': penalizes positive gradients of the hedge quantities with respect\n",
    "                                   to the spot, since a long call position should have negative gradients.\n",
    "        \"\"\"\n",
    "\n",
    "        # create hedge model\n",
    "        # \n",
    "        hedge_input_feat = tf.keras.layers.Input(shape=(n_times-1, n_features))\n",
    "        \n",
    "        hedge_model = Hedger._create_hedge_model(n_features, layers)\n",
    "        if model_type == 'plain':\n",
    "            hedge_qty = tf.keras.layers.TimeDistributed(hedge_model,\n",
    "                                                        name='time_distributed/hedge_model'\n",
    "                                                       )(hedge_input_feat)\n",
    "            \n",
    "        elif model_type == 'deltabase':\n",
    "            input_base = tf.keras.layers.Input(shape=(n_times-1, 1))\n",
    "            delta_adjustment = tf.keras.layers.TimeDistributed(hedge_model,\n",
    "                                                        name='time_distributed/hedge_model'\n",
    "                                                       )(hedge_input_feat)\n",
    "            hedge_qty = tf.keras.layers.Add()([delta_adjustment, input_base])\n",
    "            \n",
    "        elif model_type == 'gradreg':\n",
    "            with tf.GradientTape() as grad:\n",
    "                grad.watch(hedge_input_feat)\n",
    "                hedge_qty = tf.keras.layers.TimeDistributed(hedge_model, \n",
    "                                                            name='time_distributed/hedge_model'\n",
    "                                                           )(hedge_input_feat)\n",
    "\n",
    "            # Since the position to be hedged is a \"long call\", the gradients of the hedge quantity (delta)\n",
    "            # with respect to the spot has to be non-positive at all times and spot values\n",
    "            #\n",
    "            hedge_qty_grad_all = grad.gradient(hedge_qty, hedge_input_feat)\n",
    "            hedge_qty_grad = tf.keras.layers.Lambda(lambda x: x[:,:,0])(hedge_qty_grad_all)\n",
    "            grad_penalty = GradientRegularizationLayer(reg_factor, name='gradient_penalty')(hedge_qty_grad)\n",
    "\n",
    "        else:\n",
    "            raise ValueError('Unknown model type ' + str(model_type) + '.')\n",
    "        \n",
    "                    \n",
    "        # In our example, the loss function in the training will be applied the PnL of the hedging strategy on each path.\n",
    "        # The PnL computation is done in the following lines.\n",
    "        #\n",
    "        cf_input_spot_bid = tf.keras.Input(shape=(n_times,1) ,name='CF_input_spot_bid')\n",
    "        cf_input_spot_ask = tf.keras.Input(shape=(n_times,1) ,name='CF_input_spot_ask')\n",
    "        \n",
    "        cf_input_inst_payoff = tf.keras.Input(shape=(n_times,1) ,name='CF_input_call_payoff')\n",
    "        cf_input_df = tf.keras.Input(shape=(n_times,1) ,name='CF_input_df')\n",
    "\n",
    "        # hedge cashflows from trades\n",
    "        cf_dqty_inner = tf.keras.layers.Lambda(lambda x: x[:,1:] - x[:,:-1])(hedge_qty)\n",
    "        cf_dqty0 = tf.keras.layers.Lambda(lambda x: tf.keras.backend.reshape(x[:,0,:], shape=(-1,1,1)))(hedge_qty)\n",
    "        cf_dqtyT = tf.keras.layers.Lambda(lambda x: tf.keras.backend.reshape(-x[:,-1,:], shape=(-1,1,1)))(hedge_qty)\n",
    "        cf_dqty = tf.keras.layers.Concatenate(axis=1)([cf_dqty0, cf_dqty_inner, cf_dqtyT])\n",
    "\n",
    "        cf_dqty_pos = tf.keras.layers.Lambda(lambda x: tf.keras.backend.minimum(-1.0*x, 0.0))(cf_dqty)\n",
    "        cf_dqty_neg = tf.keras.layers.Lambda(lambda x: tf.keras.backend.maximum(-1.0*x, 0.0))(cf_dqty)\n",
    "\n",
    "        cf_hedge_cashflow_buy = tf.keras.layers.Multiply()([cf_dqty_pos, cf_input_spot_ask])\n",
    "        cf_hedge_cashflow_sell = tf.keras.layers.Multiply()([cf_dqty_neg, cf_input_spot_bid])\n",
    "        cf_hedge_cashflow = tf.keras.layers.Add(name='CF_hedge_cashflow_trades')([cf_hedge_cashflow_buy, cf_hedge_cashflow_sell])\n",
    "\n",
    "        # all cashflows collected\n",
    "        # discounted cashflow defines the loss\n",
    "        cf_loss_timestep = tf.keras.layers.Multiply(name='CF_cashflows_discounted')([cf_input_df, cf_hedge_cashflow])\n",
    "        # aggregate loss output (over time steps)\n",
    "        cf_loss_value = tf.keras.layers.Lambda(lambda x: tf.keras.backend.sum(x, axis=1, keepdims=True), name='loss')(cf_loss_timestep)\n",
    "         \n",
    "        # return total model\n",
    "        inputs = [hedge_input_feat, cf_input_spot_bid, cf_input_spot_ask, cf_input_df]\n",
    "        if model_type == 'deltabase':\n",
    "            inputs.append(input_base)\n",
    "\n",
    "        return tf.keras.models.Model(inputs=inputs, outputs=cf_loss_value)"
   ]
  },
  {
   "cell_type": "markdown",
   "metadata": {},
   "source": [
    "## Generating Input Data"
   ]
  },
  {
   "cell_type": "markdown",
   "metadata": {},
   "source": [
    "As we have described above we need the following inputs:\n",
    "\n",
    "- $S=(S_{i,j})$ as the simulated spots (here $i$ denotes the number of path and $j$ the timepoint)\n",
    "- $S_{ask,i,j}= S_{i,j}\\cdot (1.0+0.5\\cdot \\delta)$ and $S_{bid,i,j}= S_{i,j}\\cdot(1.0-0.5\\cdot \\delta)$ where $delta$ can be configured in the [Global Settings](#global_settings) section\n",
    "- The time-to-maturity as input into the neural network\n",
    "- The final payoff $p_i$ of the Call option for each path $j$\n",
    "- Discount factors for each time point\n",
    "- For a neural network model that only corrects the delta from the Black-Scholes model (we use delta as a baseline) we additionally needed the respective deltas $\\delta_{i,j}$ for each path"
   ]
  },
  {
   "cell_type": "markdown",
   "metadata": {},
   "source": [
    "### Helper functions"
   ]
  },
  {
   "cell_type": "code",
   "execution_count": 5,
   "metadata": {
    "code_folding": [
     0,
     15,
     59
    ]
   },
   "outputs": [],
   "source": [
    "def compute_bs(spot, strike, ttm, sigma, r=0.0):\n",
    "    \"\"\" Compute call option price and delta with Black-Scholes formula.\n",
    "    Args:\n",
    "        spot (float): Spot\n",
    "        strike (float): Strike\n",
    "        ttm (float): Remainin tme to maturity\n",
    "        sigma (float): Volatility\n",
    "        r (float): interest rate\n",
    "    \"\"\"\n",
    "    d1 = ( np.log(spot / strike) + (r + 0.5*sigma**2) * ttm ) / (sigma * np.sqrt(ttm))\n",
    "    d2 = d1 - sigma * np.sqrt(ttm)\n",
    "    price = spot * stats.norm.cdf(d1) - np.exp(-r * ttm) * strike * stats.norm.cdf(d2)\n",
    "    delta = stats.norm.cdf(d1)\n",
    "    return price, delta\n",
    "\n",
    "def compute_data(ttm, n_timesteps, n_samples, final_payoff, vol, spot, ba_spread, strike):\n",
    "    \"\"\" This method simulates bid-ask spot paths using geometric brownian motion and returns \n",
    "    the path together with the evaluation of a given payoff at the final simulation date.\n",
    "    Args:\n",
    "        ttm (float): The time-to-maturity of the simulation\n",
    "        n_timesteps (int): Number of timesteps used to simulate the paths\n",
    "        n_samples (int): Number of monte carlo simulations\n",
    "        final_payoff (function): Function that is evaluated at the final spot values\n",
    "        vol: The volatility of the geometric brownian motion (annualized)\n",
    "        ba_spread: Bid-ask spread as percentage, i.e. spot_bid = spot*(1.0-ba_spread*0.5)\n",
    "        strike (float): Strike of respective call\n",
    "        \n",
    "    Returns:\n",
    "        [3D numpy-array]: The spot bid value\n",
    "        [3D numpy-array]: The spot ask value\n",
    "        [3D numpy-array]: Timegrid (of time-to-maturities)\n",
    "        [3D numpy-array]: Evaluated payoff (at maturity)\n",
    "        [3D numpy-array]: Delta at the respective time step for the respective mid-spot\n",
    "    \"\"\"\n",
    "    spot_bid = np.empty((n_samples, n_timesteps,))\n",
    "    spot_ask = np.empty((n_samples, n_timesteps,))\n",
    "    delta = np.empty((n_samples, n_timesteps,))\n",
    "    payoff = np.zeros((n_samples,))\n",
    "    timegrid = np.linspace(0.0, ttm, n_timesteps)\n",
    "    call_ttm = np.empty((n_samples, n_timesteps,))\n",
    "    simulated_spot = np.full((n_samples,), spot)\n",
    "    spot_bid[:,0] = simulated_spot*(1.0-ba_spread*0.5)\n",
    "    spot_ask[:,0] = simulated_spot*(1.0+ba_spread*0.5)\n",
    "    \n",
    "    for i in range(n_samples):\n",
    "        call_ttm[i,:] = ttm-timegrid\n",
    "    \n",
    "    vol_2 = vol**2\n",
    "    for i in range(1,timegrid.shape[0]):\n",
    "        dt = timegrid[i]-timegrid[i-1]\n",
    "        rand = np.random.standard_normal((n_samples,))\n",
    "        simulated_spot = simulated_spot * np.exp((- 0.5 * vol_2) * dt +\n",
    "                                         vol * np.sqrt(dt) * rand)\n",
    "        spot_bid[:,i] = simulated_spot*(1.0-ba_spread*0.5)\n",
    "        spot_ask[:,i] = simulated_spot*(1.0+ba_spread*0.5)\n",
    "        _,delta[:,i] = compute_bs(simulated_spot, strike, ttm-timegrid[i-1], vol)\n",
    "    payoff[:] = final_payoff(simulated_spot)\n",
    "    return np.atleast_3d(spot_bid), np.atleast_3d(spot_ask), np.atleast_3d(call_ttm), payoff, np.atleast_3d(delta) # for later usage in the time distributed NN we must apply np.atleast_3d\n",
    "\n",
    "def call_payoff(strike):\n",
    "    \"\"\"Defines the call payoff function for a call with strike strike.\n",
    "    \"\"\"\n",
    "    def c(x):\n",
    "        return np.maximum(x-strike, 0.0)\n",
    "    return c\n"
   ]
  },
  {
   "cell_type": "markdown",
   "metadata": {},
   "source": [
    "### Create Data"
   ]
  },
  {
   "cell_type": "code",
   "execution_count": 6,
   "metadata": {},
   "outputs": [],
   "source": [
    "np.random.seed(42)\n",
    "spot_bid, spot_ask, call_ttm, payoff, delta = compute_data(ttm, n_timesteps=120, n_samples=20000, \n",
    "                                                    final_payoff=call_payoff(strike=strike), vol=vol, \n",
    "                                                    spot=spot, ba_spread=ba_spread,strike=strike)\n",
    "\n",
    "f_hedge=np.concatenate([(spot_bid+spot_ask)/(2.0*strike), call_ttm], axis=2) #the input for the neural network constructed later\n",
    "df = np.ones(shape=(f_hedge.shape[0], f_hedge.shape[1], 1))# set discount factors to 1 (no discounting)"
   ]
  },
  {
   "cell_type": "markdown",
   "metadata": {},
   "source": [
    "##  Loss functions"
   ]
  },
  {
   "cell_type": "markdown",
   "metadata": {},
   "source": [
    "As discussed above, there are different possible loss functions $L$. In this notebok we use two different loss functions:\n",
    "- Variance: We measure the variance of the hedge vs the call's PnL\n",
    "- Expected Shortfall: The expected shortfall (10%) is used"
   ]
  },
  {
   "cell_type": "code",
   "execution_count": 7,
   "metadata": {
    "code_folding": [
     7
    ]
   },
   "outputs": [],
   "source": [
    "@tf.function\n",
    "def variance_loss(y_true, y_pred):\n",
    "    x = tf.nn.moments(y_pred-y_true, axes=0)\n",
    "    return x[1]\n",
    "\n",
    "\n",
    "@tf.function\n",
    "def expected_shortfall_10pct(y_true, y_pred):\n",
    "    \"\"\"[summary]\n",
    "\n",
    "    Args:\n",
    "        y_true ([type]): [description]\n",
    "        y_pred ([type]): [description]\n",
    "\n",
    "    Returns:\n",
    "        [type]: [description]\n",
    "    \"\"\"\n",
    "    pnl = tf.keras.backend.reshape(y_pred - y_true, (-1, ))\n",
    "    pnl = tf.multiply(pnl, -1.0)\n",
    "\n",
    "    n_pct = tf.keras.backend.round(tf.multiply(\n",
    "        tf.keras.backend.cast(tf.keras.backend.shape(pnl)[0], tf.float32)  , 0.1))\n",
    "\n",
    "    pnl_past_cutoff = tf.nn.top_k(pnl, tf.keras.backend.cast(n_pct, tf.int32))[0]\n",
    "    return tf.reduce_mean(pnl_past_cutoff)"
   ]
  },
  {
   "cell_type": "markdown",
   "metadata": {},
   "source": [
    "## Training"
   ]
  },
  {
   "cell_type": "code",
   "execution_count": 8,
   "metadata": {},
   "outputs": [],
   "source": [
    "model_type ='gradreg' #'gradreg', 'plain', 'deltabase'\n",
    "\n",
    "nn_hedge = Hedger.create_model(n_times=f_hedge.shape[-2], n_features= f_hedge.shape[-1], \n",
    "                               model_type=model_type, \n",
    "                               reg_factor=100.0,\n",
    "                               layers = [{'units':10, 'activation':'tanh'}, \n",
    "                                         {'units':5, 'activation':'tanh'}, \n",
    "                                         {'units':1, 'activation':'linear'}])"
   ]
  },
  {
   "cell_type": "code",
   "execution_count": 9,
   "metadata": {},
   "outputs": [],
   "source": [
    "nn_hedge.compile(optimizer = tf.keras.optimizers.Adam(beta_1=0.9, beta_2=0.999), loss = variance_loss)#'mean_squared_error')"
   ]
  },
  {
   "cell_type": "markdown",
   "metadata": {},
   "source": [
    "Start training..."
   ]
  },
  {
   "cell_type": "code",
   "execution_count": 10,
   "metadata": {},
   "outputs": [],
   "source": [
    "cb = [] # list of callbacks\n",
    "# if you would like to use the tensorboard, uncomment the following lines \n",
    "# and adjust the directories accordingly\n",
    "date = dt.datetime.now().strftime(\"%Y%m%d-%H%M%S\")\n",
    "log_dir = 'tensorboard_log/'+model_type + '/' + date\n",
    "cb.append(tf.keras.callbacks.TensorBoard(profile_batch=0, \n",
    "                                        log_dir=log_dir, \n",
    "                                        histogram_freq=100))\n",
    "\n",
    "cb.append(tf.keras.callbacks.ModelCheckpoint(log_dir + '/model_5_percent_spread.h5', save_best_only = True)) #write a model checkpoint\n",
    "\n",
    "learning_rate = lambda epochs: 0.1 * (0.1 ** np.floor(np.log10(epochs+1)))\n",
    "cb.append(tf.keras.callbacks.LearningRateScheduler(learning_rate))\n",
    "\n",
    "x_train = [f_hedge[:,:-1,:], spot_bid, spot_ask, df]\n",
    "if model_type=='deltabase': #append delta to input if we just train the network to correct the delta\n",
    "    x_train.append(delta[:,:-1,:])\n",
    "    \n",
    "history = nn_hedge.fit(x_train, \n",
    "                    payoff,\n",
    "                    verbose=0,\n",
    "                    epochs=100, # the given value is too small to achieve convergence, consider setting a higher value\n",
    "                    batch_size=100,\n",
    "                    callbacks=cb,\n",
    "                    validation_split=0.2)"
   ]
  },
  {
   "cell_type": "markdown",
   "metadata": {},
   "source": [
    "## Model analysis"
   ]
  },
  {
   "cell_type": "markdown",
   "metadata": {},
   "source": [
    "In this section we analyze the behaviour of the deep hedging model."
   ]
  },
  {
   "cell_type": "markdown",
   "metadata": {},
   "source": [
    "### Helper functions"
   ]
  },
  {
   "cell_type": "code",
   "execution_count": 11,
   "metadata": {
    "code_folding": [
     0
    ]
   },
   "outputs": [],
   "source": [
    "def plot_delta_vs_spot(model, ttm, model_type):\n",
    "    spots = np.arange(0.5*spot,1.5*spot, 0.01*spot)\n",
    "    # compute and plot Black Scholes delta\n",
    "    bs_delta = np.empty(shape=(spots.shape[0]))\n",
    "    for i,s in enumerate(spots):\n",
    "        _, bs_delta[i] = compute_bs(s, strike, ttm, vol, 0.0)\n",
    "    plt.plot(spots,bs_delta,'.', label='Black-Scholes')\n",
    "    \n",
    "    # compute and plot delta from neural network\n",
    "    x=np.empty(shape=(spots.shape[0], 2))\n",
    "    x[:,0] = spots/strike\n",
    "    x[:,1] = ttm\n",
    "    delta = hedge_model.predict(x)\n",
    "    if model_type=='deltabase':\n",
    "        delta[:,0] = delta[:,0] + bs_delta\n",
    "    plt.plot(spots,delta[:,0],'.', label=model_type) #since the above model hedges a long Call position, we have to use -delta to compare with BS delta\n",
    "    \n",
    "    plt.legend()\n",
    "    plt.xlabel('spot')\n",
    "    plt.ylabel('delta')\n",
    "    plt.title('Black-Scholes vs Deep Hedging Delta for Call with ttm=' + str(ttm))\n",
    "    \n",
    "def plot_delta_vs_ttm(model, spot, model_type):\n",
    "    ttm_ = np.arange(1.0/365.0, ttm, 1.0/365.0)\n",
    "    x=np.empty(shape=(ttm_.shape[0], 2))\n",
    "    # compute and plot Black Scholes delta\n",
    "    bs_delta = np.empty(shape=(ttm_.shape[0]))\n",
    "    for i,t in enumerate(ttm_):\n",
    "        _, bs_delta[i] = compute_bs(spot, strike, t, vol, 0.0)\n",
    "    plt.plot(ttm_, bs_delta,'.', label='Black-Scholes')\n",
    "    # compute and plot delta from neural network\n",
    "    x[:,0] = spot/strike\n",
    "    x[:,1] = ttm_\n",
    "    delta = hedge_model.predict(x)\n",
    "    if model_type=='deltabase':\n",
    "        delta[:,0] = delta[:,0] + bs_delta\n",
    "    plt.plot(ttm_, delta[:,0], '.', label=model_type) \n",
    "    \n",
    "    plt.legend()\n",
    "    plt.xlabel('ttm')\n",
    "    plt.ylabel('delta')\n",
    "    plt.title('Black-Scholes vs Deep Hedging Delta for Call, spot=' + str(spot))\n",
    "    \n"
   ]
  },
  {
   "cell_type": "markdown",
   "metadata": {},
   "source": [
    "### Load respective models (optional)\n",
    "You may either calibrate a model on your own or load one of two pretrained models by executing the cell below."
   ]
  },
  {
   "cell_type": "code",
   "execution_count": 12,
   "metadata": {},
   "outputs": [],
   "source": [
    "nn_hedge = tf.keras.models.load_model('model_5_percent_spread.h5', custom_objects={'variance_loss':variance_loss, \n",
    "                                                                                   'expected_shortfall_10pct': expected_shortfall_10pct}) # the model with no bid-ask spread\n",
    "#nn_hedge = tf.keras.models.load_model('model_10_variance_loss.h5', custom_objects={'variance_loss':variance_loss, \n",
    "#                                                                                   'expected_shortfall_10pct': expected_shortfall_10pct})"
   ]
  },
  {
   "cell_type": "markdown",
   "metadata": {},
   "source": [
    "### PnL Distribution and Fair Value"
   ]
  },
  {
   "cell_type": "markdown",
   "metadata": {},
   "source": [
    "In this section we plot the final PnL distribution of the portfolio consisting of the hedge strategy and the call option. Note that we define in our context the *deep hedging price* as the mean of this portfolios PnL and subtract this from the distribution (to center the distribution at zero). There are infinite other pricing measures (stemming from the incomplete nature of this problem) and it is up to you to play around and try other loss functions and measures different then the mean."
   ]
  },
  {
   "cell_type": "code",
   "execution_count": 13,
   "metadata": {},
   "outputs": [
    {
     "name": "stdout",
     "output_type": "stream",
     "text": [
      "BS price: 7.965567455405804, deep-hedging price: 10.265672560950195\n",
      "Mean total (hedge+instrument) pnl: 1.3940848475613167e-15\n",
      "variance total (hedge+instrument) pnl: 1.1129811738201112\n"
     ]
    },
    {
     "data": {
      "image/png": "[encoded data removed]",
      "text/plain": [
       "<Figure size 432x288 with 1 Axes>"
      ]
     },
     "metadata": {
      "needs_background": "light"
     },
     "output_type": "display_data"
    }
   ],
   "source": [
    "pnl = nn_hedge.predict([f_hedge[:,:-1,:], spot_bid, spot_ask,  df[:]])#\n",
    "price = np.mean(payoff-pnl[:,0,0]) # we define the product price as the mean of hedge-portfolio difference\n",
    "plt.hist(payoff-pnl[:,0,0]-price, bins=50)\n",
    "plt.xlabel('PnL')\n",
    "\n",
    "bs_price, _ = compute_bs(spot, strike, ttm, vol, 0.0)\n",
    "print('BS price: ' + str(bs_price) +', deep-hedging price: ' + str(price))\n",
    "print('Mean total (hedge+instrument) pnl: ' + str(np.mean(payoff-pnl[:,0,0]-price)))\n",
    "print('variance total (hedge+instrument) pnl: ' + str(np.var(payoff-pnl[:,0,0])))"
   ]
  },
  {
   "cell_type": "markdown",
   "metadata": {},
   "source": [
    "### Hedge Quantities (Deltas)"
   ]
  },
  {
   "cell_type": "code",
   "execution_count": 14,
   "metadata": {},
   "outputs": [],
   "source": [
    "hedge_model = Hedger.get_hedge_model(nn_hedge)"
   ]
  },
  {
   "cell_type": "code",
   "execution_count": 15,
   "metadata": {},
   "outputs": [
    {
     "data": {
      "image/png": "[encoded data removed]",
      "text/plain": [
       "<Figure size 1152x432 with 2 Axes>"
      ]
     },
     "metadata": {
      "needs_background": "light"
     },
     "output_type": "display_data"
    }
   ],
   "source": [
    "plt.figure(figsize=(16,6))\n",
    "plt.subplot(1,2,1)\n",
    "plot_delta_vs_spot(hedge_model, ttm=0.5, model_type=model_type)\n",
    "plt.subplot(1,2,2)\n",
    "plot_delta_vs_ttm(hedge_model, spot=60, model_type=model_type)\n",
    "plt.ylim((-0.1,1.1));"
   ]
  },
  {
   "cell_type": "code",
   "execution_count": null,
   "metadata": {},
   "outputs": [],
   "source": []
  }
 ],
 "metadata": {
  "hide_input": false,
  "kernelspec": {
   "display_name": "python38",
   "language": "python",
   "name": "python38"
  },
  "language_info": {
   "codemirror_mode": {
    "name": "ipython",
    "version": 3
   },
   "file_extension": ".py",
   "mimetype": "text/x-python",
   "name": "python",
   "nbconvert_exporter": "python",
   "pygments_lexer": "ipython3",
   "version": "3.8.2"
  },
  "toc": {
   "colors": {
    "hover_highlight": "#DAA520",
    "navigate_num": "#000000",
    "navigate_text": "#333333",
    "running_highlight": "#FF0000",
    "selected_highlight": "#FFD700",
    "sidebar_border": "#EEEEEE",
    "wrapper_background": "#FFFFFF"
   },
   "moveMenuLeft": true,
   "nav_menu": {
    "height": "11.9886px",
    "width": "251.989px"
   },
   "navigate_menu": true,
   "number_sections": true,
   "sideBar": true,
   "threshold": 4,
   "toc_cell": false,
   "toc_position": {
    "height": "761.534px",
    "left": "0px",
    "right": "1485.92px",
    "top": "90.4403px",
    "width": "259.531px"
   },
   "toc_section_display": "block",
   "toc_window_display": true,
   "widenNotebook": false
  },
  "varInspector": {
   "cols": {
    "lenName": 16,
    "lenType": 16,
    "lenVar": 40
   },
   "kernels_config": {
    "python": {
     "delete_cmd_postfix": "",
     "delete_cmd_prefix": "del ",
     "library": "var_list.py",
     "varRefreshCmd": "print(var_dic_list())"
    },
    "r": {
     "delete_cmd_postfix": ") ",
     "delete_cmd_prefix": "rm(",
     "library": "var_list.r",
     "varRefreshCmd": "cat(var_dic_list()) "
    }
   },
   "types_to_exclude": [
    "module",
    "function",
    "builtin_function_or_method",
    "instance",
    "_Feature"
   ],
   "window_display": false
  }
 },
 "nbformat": 4,
 "nbformat_minor": 4
}
