{
 "cells": [
  {
   "cell_type": "code",
   "execution_count": 69,
   "metadata": {},
   "outputs": [],
   "source": [
    "import os\n",
    "import numpy as np\n",
    "import datetime as dt\n",
    "import matplotlib.pyplot as plt\n",
    "import tensorflow as tf\n",
    "\n",
    "tf.keras.backend.set_floatx('float64')\n",
    "\n",
    "%matplotlib inline"
   ]
  },
  {
   "cell_type": "code",
   "execution_count": 189,
   "metadata": {
    "code_folding": [
     24
    ]
   },
   "outputs": [],
   "source": [
    "def compute_data(ttm, n_timesteps, n_samples, final_payoff, vol, spot=100.0, ba_spread = 0.0001):\n",
    "    spot_bid = np.empty((n_samples, n_timesteps,))\n",
    "    spot_ask = np.empty((n_samples, n_timesteps,))\n",
    "    payoff = np.zeros((n_samples,n_timesteps,))\n",
    "    timegrid = np.linspace(0.0, ttm, n_timesteps)\n",
    "    call_ttm = np.empty((n_samples, n_timesteps,))\n",
    "    simulated_spot = np.full((n_samples,), spot)\n",
    "    spot_bid[:,0] = simulated_spot*(1.0-ba_spread*0.5)\n",
    "    spot_ask[:,0] = simulated_spot*(1.0+ba_spread*0.5)\n",
    "    \n",
    "    for i in range(n_samples):\n",
    "        call_ttm[i,:] = ttm-timegrid\n",
    "    \n",
    "    vol_2 = vol**2\n",
    "    for i in range(1,timegrid.shape[0]):\n",
    "        dt = timegrid[i]-timegrid[i-1]\n",
    "        rand = np.random.standard_normal((n_samples,))\n",
    "        simulated_spot = simulated_spot * np.exp((- 0.5 * vol_2) * dt +\n",
    "                                         vol * np.sqrt(dt) * rand)\n",
    "        spot_bid[:,i] = simulated_spot*(1.0-ba_spread*0.5)\n",
    "        spot_ask[:,i] = simulated_spot*(1.0+ba_spread*0.5)\n",
    "    payoff[:,-1] = final_payoff(simulated_spot)\n",
    "    return np.atleast_3d(spot_bid), np.atleast_3d(spot_ask), np.atleast_3d(call_ttm), np.atleast_3d(payoff)\n",
    "\n",
    "def call_payoff(strike):\n",
    "    def c(x):\n",
    "        return np.maximum(x-strike, 0.0)\n",
    "    return c\n",
    "\n",
    "spot_bid, spot_ask, call_ttm, payoff = compute_data(1.0, n_timesteps=120, n_samples=5000, final_payoff=call_payoff(strike=100.0), vol=0.2)\n",
    "f_hedge=np.concatenate([spot_bid, call_ttm], axis=2)"
   ]
  },
  {
   "cell_type": "code",
   "execution_count": 190,
   "metadata": {
    "code_folding": [
     1,
     64,
     71
    ]
   },
   "outputs": [],
   "source": [
    "@tf.function\n",
    "def expected_shortfall_10pct(y_true, y_pred):\n",
    "    pnl = tf.keras.backend.reshape(y_pred - y_true, (-1, ))\n",
    "    pnl = tf.multiply(pnl, -1.0)\n",
    "\n",
    "    n_pct = tf.keras.backend.round(tf.multiply(\n",
    "        tf.keras.backend.cast(tf.keras.backend.shape(pnl)[0], tf.float32)  , 0.1))\n",
    "\n",
    "    pnl_past_cutoff = tf.nn.top_k(pnl, tf.keras.backend.cast(n_pct, tf.int32))[0]\n",
    "    return tf.reduce_mean(pnl_past_cutoff)\n",
    "\n",
    "##===============================================================\n",
    "## CLASSES\n",
    "##===============================================================\n",
    "\n",
    "class Hedger(tf.keras.Model):\n",
    "    def __init__(\n",
    "        self,\n",
    "        n_features,\n",
    "        model_param):\n",
    "\n",
    "        # call parent class\n",
    "        super(Hedger, self).__init__()\n",
    "\n",
    "        # init hedge model\n",
    "        self.hedge_model = HedgeModel(model_param['units'], model_param['activations'], n_features)\n",
    "\n",
    "        # init cashflow model\n",
    "        self.cf_model = CashflowModel()\n",
    "\n",
    "    def call(self, inputs, training=None):\n",
    "        f_hedge = inputs[0]\n",
    "        hedge_qty = self.hedge_model.call(f_hedge, training=training)\n",
    "        f_loss = [hedge_qty] + inputs[1:]\n",
    "        loss_cf = self.cf_model.call(f_loss, training=training)\n",
    "        return loss_cf\n",
    "        \n",
    "class HedgeModel(tf.keras.Model):\n",
    "    def __init__(\n",
    "        self,\n",
    "        units,\n",
    "        activations, n_features):\n",
    "\n",
    "        super(HedgeModel, self).__init__()\n",
    "\n",
    "        # Checks\n",
    "        if units[-1] != 1:\n",
    "            raise ValueError('Last unit must be 1, because it specifies the hedge quantity for the underlying stock.')\n",
    "\n",
    "        # Members\n",
    "        self.n_units = len(units)\n",
    "        \n",
    "        # Dense layer\n",
    "        self.lay_dnn_0 = tf.keras.layers.TimeDistributed(tf.keras.layers.Dense(units[0], activation=activations[0], input_shape=(None,n_features)))\n",
    "        for k in range(1, len(units)-1):\n",
    "            setattr(\n",
    "                self,\n",
    "                'lay_dnn_' + str(k), \n",
    "                tf.keras.layers.TimeDistributed(tf.keras.layers.Dense(units[k], activation=activations[k]))\n",
    "            )\n",
    "        self.lay_hedge_qty = tf.keras.layers.TimeDistributed(\n",
    "            tf.keras.layers.Dense(units[-1], activation=activations[-1], name='hedge_qty_layer')\n",
    "            )\n",
    "\n",
    "    def call(self, feat_input, training=False):\n",
    "        ten_dnn = self.lay_dnn_0(feat_input)\n",
    "        for k in range(1, self.n_units - 1):\n",
    "            ten_dnn = getattr(self, 'lay_dnn_' + str(k))(ten_dnn)\n",
    "        ten_dnn = self.lay_hedge_qty(ten_dnn)\n",
    "        return ten_dnn\n",
    "\n",
    "class CashflowModel(tf.keras.Model):\n",
    "\n",
    "    def __init__(self):\n",
    "        super(CashflowModel, self).__init__()\n",
    "        # hedge cashflows from trades\n",
    "        self.dqty_inner = tf.keras.layers.Lambda(lambda x: x[:,1:] - x[:,:-1])        \n",
    "        self.dqty0 = tf.keras.layers.Lambda(lambda x: tf.keras.backend.reshape(x[:,0,:], shape=(-1,1,1)))\n",
    "        self.dqtyT = tf.keras.layers.Lambda(lambda x: tf.keras.backend.reshape(-x[:,-1,:], shape=(-1,1,1)))\n",
    "        self.dqty = tf.keras.layers.Concatenate(axis=1)\n",
    "\n",
    "        self.dqty_pos = tf.keras.layers.Lambda(lambda x: tf.keras.backend.minimum(-1.0*x, 0.0))\n",
    "        self.dqty_neg = tf.keras.layers.Lambda(lambda x: tf.keras.backend.maximum(-1.0*x, 0.0))\n",
    "\n",
    "        self.hedge_cashflow_buy = tf.keras.layers.Multiply()\n",
    "        self.hedge_cashflow_sell = tf.keras.layers.Multiply()\n",
    "        self.hedge_cashflow_trades = tf.keras.layers.Add(name='hedge_cashflow_trades')\n",
    "\n",
    "        # hedge cashflows from payoffs\n",
    "        #self.qty_layer_initial = tf.keras.layers.Lambda(lambda x: tf.keras.backend.reshape(tf.zeros_like(x[:,0,:]),(-1,1,1)))\n",
    "        #self.qty_layer_extended = tf.keras.layers.Concatenate(axis=1)\n",
    "        #self.hedge_cashflow_payoff = tf.keras.layers.Multiply(name='hedge_cashflow_payoff')\n",
    "        \n",
    "        # total hedge cashflows\n",
    "        self.hedge_cashflow = tf.keras.layers.Add(name='hedge_cashflow')\n",
    "\n",
    "        # cumulated cashflows that define the loss\n",
    "        self.cashflow = tf.keras.layers.Add(name='cashflow_total')\n",
    "\n",
    "        # aggregate loss output\n",
    "        self.loss_value = tf.keras.layers.Lambda(lambda x: tf.keras.backend.sum(tf.keras.backend.sum(x, axis=1), axis=-1, keepdims=True), name='loss')#(loss_timestep)\n",
    "\n",
    "\n",
    "    def call(self, loss_inputs, training=False):\n",
    "        # required order of loss_inputs = [hedge_qty, hedge_prc_bid, hedge_prc_ask, inst_payoff]\n",
    "        hedge_qty = loss_inputs[0]\n",
    "        hedge_prc_bid = loss_inputs[1]\n",
    "        hedge_prc_ask = loss_inputs[2]\n",
    "        inst_payoff = loss_inputs[3]\n",
    "        \n",
    "        # compute cumulated cashflows from hedge trades and instrument payoff\n",
    "        dqty_inner = self.dqty_inner(hedge_qty)\n",
    "        dqty0 = self.dqty0(hedge_qty)\n",
    "        dqtyT = self.dqty0(hedge_qty)\n",
    "        dqty = self.dqty([dqty0, dqty_inner, dqtyT])\n",
    "\n",
    "        dqty_pos = self.dqty_pos(dqty)\n",
    "        dqty_neg = self.dqty_neg(dqty)\n",
    "\n",
    "        hedge_cf_buy = self.hedge_cashflow_buy([dqty_pos, hedge_prc_ask])\n",
    "        hedge_cf_sell = self.hedge_cashflow_sell([dqty_neg, hedge_prc_bid])\n",
    "        hedge_cf_trades = self.hedge_cashflow_trades([hedge_cf_buy, hedge_cf_sell])\n",
    "        \n",
    "        \n",
    "        #hedge_cf = self.hedge_cashflow([hedge_cf_trades, hedge_cf_payoff])\n",
    "\n",
    "        cashflow = self.cashflow([inst_payoff, hedge_cf_trades])\n",
    "        \n",
    "        loss_value = self.loss_value(cashflow)\n",
    "\n",
    "        return loss_value\n"
   ]
  },
  {
   "cell_type": "code",
   "execution_count": 191,
   "metadata": {},
   "outputs": [],
   "source": [
    "model_param = {\n",
    "    'units': [8, 5, 1], \n",
    "    'activations': ['tanh', 'tanh', 'linear']\n",
    "}\n",
    "\n",
    "hedger = Hedger(f_hedge.shape[-1], model_param)"
   ]
  },
  {
   "cell_type": "code",
   "execution_count": 206,
   "metadata": {},
   "outputs": [],
   "source": [
    "optim = tf.keras.optimizers.Adam(lr=0.000005)\n",
    "if True:\n",
    "    loss_fcn = 'mean_squared_error'\n",
    "else:\n",
    "    loss_fcn = expected_shortfall_10pct\n",
    "\n",
    "hedger.compile(optimizer=optim, loss=loss_fcn)"
   ]
  },
  {
   "cell_type": "code",
   "execution_count": 207,
   "metadata": {},
   "outputs": [],
   "source": [
    "date = dt.datetime.now().strftime(\"%Y%m%d-%H%M%S\")\n",
    "log_dir = 'C:\\\\temp\\\\deep_hedging\\\\' + date\n",
    "cb = [tf.keras.callbacks.TensorBoard(profile_batch=0, \n",
    "                            log_dir=log_dir, histogram_freq=100),]\n",
    "cb.append(tf.keras.callbacks.ModelCheckpoint(log_dir + '\\\\best_model.h5', save_best_only = True))\n",
    "\n",
    "history = hedger.fit([f_hedge[:,:-1,:], spot_bid, spot_ask, payoff], np.zeros((spot_bid.shape[0],1)), \n",
    "                     epochs=400, batch_size=500, callbacks=cb, verbose=0, validation_split=0.2)"
   ]
  },
  {
   "cell_type": "code",
   "execution_count": 208,
   "metadata": {},
   "outputs": [],
   "source": [
    "delta = hedger.hedge_model.predict(f_hedge[:,:-1,:])"
   ]
  },
  {
   "cell_type": "code",
   "execution_count": 209,
   "metadata": {},
   "outputs": [
    {
     "data": {
      "text/plain": [
       "[<matplotlib.lines.Line2D at 0x197791914a8>]"
      ]
     },
     "execution_count": 209,
     "metadata": {},
     "output_type": "execute_result"
    },
    {
     "data": {
      "image/png": "[encoded data removed]",
      "text/plain": [
       "<Figure size 432x288 with 1 Axes>"
      ]
     },
     "metadata": {
      "needs_background": "light"
     },
     "output_type": "display_data"
    }
   ],
   "source": [
    "#plt.plot(spot_bid[:,-1,0],payoff[:,-1,0],'.')\n",
    "#plt.figure()\n",
    "plt.plot(spot_bid[:,20,0],delta[:,20,0],'.')\n",
    "plt.plot(spot_bid[:,118,0],delta[:,118,0],'.')\n",
    "#plt.plot(spot_ask[:,20,0],delta[:,20,0],'.')\n",
    "#plt.plot(spot_ask[:,100,0],delta[:,100,0],'.')"
   ]
  },
  {
   "cell_type": "code",
   "execution_count": 132,
   "metadata": {},
   "outputs": [
    {
     "data": {
      "text/plain": [
       "(array([  2.,  13.,  58., 161., 245., 277., 154.,  65.,  17.,   8.]),\n",
       " array([ 79.90781774,  83.83117003,  87.75452232,  91.67787461,\n",
       "         95.6012269 ,  99.52457918, 103.44793147, 107.37128376,\n",
       "        111.29463605, 115.21798834, 119.14134063]),\n",
       " <a list of 10 Patch objects>)"
      ]
     },
     "execution_count": 132,
     "metadata": {},
     "output_type": "execute_result"
    },
    {
     "data": {
      "image/png": "[encoded data removed]",
      "text/plain": [
       "<Figure size 432x288 with 1 Axes>"
      ]
     },
     "metadata": {
      "needs_background": "light"
     },
     "output_type": "display_data"
    }
   ],
   "source": [
    "plt.hist(spot_bid[:,10,0])"
   ]
  }
 ],
 "metadata": {
  "hide_input": false,
  "kernelspec": {
   "display_name": "Python 3.7, tensorflow 2",
   "language": "python",
   "name": "tensorflow2"
  },
  "language_info": {
   "codemirror_mode": {
    "name": "ipython",
    "version": 3
   },
   "file_extension": ".py",
   "mimetype": "text/x-python",
   "name": "python",
   "nbconvert_exporter": "python",
   "pygments_lexer": "ipython3",
   "version": "3.7.3"
  },
  "toc": {
   "colors": {
    "hover_highlight": "#DAA520",
    "navigate_num": "#000000",
    "navigate_text": "#333333",
    "running_highlight": "#FF0000",
    "selected_highlight": "#FFD700",
    "sidebar_border": "#EEEEEE",
    "wrapper_background": "#FFFFFF"
   },
   "moveMenuLeft": true,
   "nav_menu": {
    "height": "11.9886px",
    "width": "251.989px"
   },
   "navigate_menu": true,
   "number_sections": true,
   "sideBar": true,
   "threshold": 4,
   "toc_cell": false,
   "toc_section_display": "block",
   "toc_window_display": false,
   "widenNotebook": false
  },
  "varInspector": {
   "cols": {
    "lenName": 16,
    "lenType": 16,
    "lenVar": 40
   },
   "kernels_config": {
    "python": {
     "delete_cmd_postfix": "",
     "delete_cmd_prefix": "del ",
     "library": "var_list.py",
     "varRefreshCmd": "print(var_dic_list())"
    },
    "r": {
     "delete_cmd_postfix": ") ",
     "delete_cmd_prefix": "rm(",
     "library": "var_list.r",
     "varRefreshCmd": "cat(var_dic_list()) "
    }
   },
   "types_to_exclude": [
    "module",
    "function",
    "builtin_function_or_method",
    "instance",
    "_Feature"
   ],
   "window_display": false
  }
 },
 "nbformat": 4,
 "nbformat_minor": 4
}
